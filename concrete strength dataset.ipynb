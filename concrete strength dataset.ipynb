{
 "cells": [
  {
   "cell_type": "code",
   "execution_count": 1,
   "metadata": {},
   "outputs": [],
   "source": [
    "import tensorflow as tf\n",
    "import numpy as np\n",
    "import pandas as pd\n",
    "%matplotlib inline\n",
    "import matplotlib.pyplot as plt\n",
    "\n",
    "\n",
    "from tensorflow.keras.utils import to_categorical\n",
    "from tensorflow.keras import models\n",
    "from tensorflow.keras import layers\n",
    "from tensorflow.keras.models import Sequential"
   ]
  },
  {
   "cell_type": "code",
   "execution_count": 2,
   "metadata": {},
   "outputs": [],
   "source": [
    "from sklearn.utils import shuffle\n",
    "from sklearn.preprocessing import LabelEncoder"
   ]
  },
  {
   "cell_type": "code",
   "execution_count": 18,
   "metadata": {},
   "outputs": [],
   "source": [
    "#loading data\n",
    "data = pd.read_csv('compresive_strength_concrete.csv')"
   ]
  },
  {
   "cell_type": "code",
   "execution_count": 19,
   "metadata": {},
   "outputs": [
    {
     "data": {
      "text/html": [
       "<div>\n",
       "<style scoped>\n",
       "    .dataframe tbody tr th:only-of-type {\n",
       "        vertical-align: middle;\n",
       "    }\n",
       "\n",
       "    .dataframe tbody tr th {\n",
       "        vertical-align: top;\n",
       "    }\n",
       "\n",
       "    .dataframe thead th {\n",
       "        text-align: right;\n",
       "    }\n",
       "</style>\n",
       "<table border=\"1\" class=\"dataframe\">\n",
       "  <thead>\n",
       "    <tr style=\"text-align: right;\">\n",
       "      <th></th>\n",
       "      <th>Cement (component 1)(kg in a m^3 mixture)</th>\n",
       "      <th>Blast Furnace Slag (component 2)(kg in a m^3 mixture)</th>\n",
       "      <th>Fly Ash (component 3)(kg in a m^3 mixture)</th>\n",
       "      <th>Water  (component 4)(kg in a m^3 mixture)</th>\n",
       "      <th>Superplasticizer (component 5)(kg in a m^3 mixture)</th>\n",
       "      <th>Coarse Aggregate  (component 6)(kg in a m^3 mixture)</th>\n",
       "      <th>Fine Aggregate (component 7)(kg in a m^3 mixture)</th>\n",
       "      <th>Age (day)</th>\n",
       "      <th>Concrete compressive strength(MPa, megapascals)</th>\n",
       "    </tr>\n",
       "  </thead>\n",
       "  <tbody>\n",
       "    <tr>\n",
       "      <td>0</td>\n",
       "      <td>540.0</td>\n",
       "      <td>0.0</td>\n",
       "      <td>0.0</td>\n",
       "      <td>162.0</td>\n",
       "      <td>2.5</td>\n",
       "      <td>1040.0</td>\n",
       "      <td>676.0</td>\n",
       "      <td>28</td>\n",
       "      <td>79.99</td>\n",
       "    </tr>\n",
       "    <tr>\n",
       "      <td>1</td>\n",
       "      <td>540.0</td>\n",
       "      <td>0.0</td>\n",
       "      <td>0.0</td>\n",
       "      <td>162.0</td>\n",
       "      <td>2.5</td>\n",
       "      <td>1055.0</td>\n",
       "      <td>676.0</td>\n",
       "      <td>28</td>\n",
       "      <td>61.89</td>\n",
       "    </tr>\n",
       "    <tr>\n",
       "      <td>2</td>\n",
       "      <td>332.5</td>\n",
       "      <td>142.5</td>\n",
       "      <td>0.0</td>\n",
       "      <td>228.0</td>\n",
       "      <td>0.0</td>\n",
       "      <td>932.0</td>\n",
       "      <td>594.0</td>\n",
       "      <td>270</td>\n",
       "      <td>40.27</td>\n",
       "    </tr>\n",
       "    <tr>\n",
       "      <td>3</td>\n",
       "      <td>332.5</td>\n",
       "      <td>142.5</td>\n",
       "      <td>0.0</td>\n",
       "      <td>228.0</td>\n",
       "      <td>0.0</td>\n",
       "      <td>932.0</td>\n",
       "      <td>594.0</td>\n",
       "      <td>365</td>\n",
       "      <td>41.05</td>\n",
       "    </tr>\n",
       "    <tr>\n",
       "      <td>4</td>\n",
       "      <td>198.6</td>\n",
       "      <td>132.4</td>\n",
       "      <td>0.0</td>\n",
       "      <td>192.0</td>\n",
       "      <td>0.0</td>\n",
       "      <td>978.4</td>\n",
       "      <td>825.5</td>\n",
       "      <td>360</td>\n",
       "      <td>44.30</td>\n",
       "    </tr>\n",
       "  </tbody>\n",
       "</table>\n",
       "</div>"
      ],
      "text/plain": [
       "   Cement (component 1)(kg in a m^3 mixture)  \\\n",
       "0                                      540.0   \n",
       "1                                      540.0   \n",
       "2                                      332.5   \n",
       "3                                      332.5   \n",
       "4                                      198.6   \n",
       "\n",
       "   Blast Furnace Slag (component 2)(kg in a m^3 mixture)  \\\n",
       "0                                                0.0       \n",
       "1                                                0.0       \n",
       "2                                              142.5       \n",
       "3                                              142.5       \n",
       "4                                              132.4       \n",
       "\n",
       "   Fly Ash (component 3)(kg in a m^3 mixture)  \\\n",
       "0                                         0.0   \n",
       "1                                         0.0   \n",
       "2                                         0.0   \n",
       "3                                         0.0   \n",
       "4                                         0.0   \n",
       "\n",
       "   Water  (component 4)(kg in a m^3 mixture)  \\\n",
       "0                                      162.0   \n",
       "1                                      162.0   \n",
       "2                                      228.0   \n",
       "3                                      228.0   \n",
       "4                                      192.0   \n",
       "\n",
       "   Superplasticizer (component 5)(kg in a m^3 mixture)  \\\n",
       "0                                                2.5     \n",
       "1                                                2.5     \n",
       "2                                                0.0     \n",
       "3                                                0.0     \n",
       "4                                                0.0     \n",
       "\n",
       "   Coarse Aggregate  (component 6)(kg in a m^3 mixture)  \\\n",
       "0                                             1040.0      \n",
       "1                                             1055.0      \n",
       "2                                              932.0      \n",
       "3                                              932.0      \n",
       "4                                              978.4      \n",
       "\n",
       "   Fine Aggregate (component 7)(kg in a m^3 mixture)  Age (day)  \\\n",
       "0                                              676.0         28   \n",
       "1                                              676.0         28   \n",
       "2                                              594.0        270   \n",
       "3                                              594.0        365   \n",
       "4                                              825.5        360   \n",
       "\n",
       "   Concrete compressive strength(MPa, megapascals)   \n",
       "0                                             79.99  \n",
       "1                                             61.89  \n",
       "2                                             40.27  \n",
       "3                                             41.05  \n",
       "4                                             44.30  "
      ]
     },
     "execution_count": 19,
     "metadata": {},
     "output_type": "execute_result"
    }
   ],
   "source": [
    "data.head()"
   ]
  },
  {
   "cell_type": "code",
   "execution_count": 20,
   "metadata": {},
   "outputs": [
    {
     "data": {
      "text/plain": [
       "(1030, 9)"
      ]
     },
     "execution_count": 20,
     "metadata": {},
     "output_type": "execute_result"
    }
   ],
   "source": [
    "data = shuffle(data)\n",
    "df = data.values\n",
    "df.shape"
   ]
  },
  {
   "cell_type": "code",
   "execution_count": 21,
   "metadata": {},
   "outputs": [
    {
     "data": {
      "text/html": [
       "<div>\n",
       "<style scoped>\n",
       "    .dataframe tbody tr th:only-of-type {\n",
       "        vertical-align: middle;\n",
       "    }\n",
       "\n",
       "    .dataframe tbody tr th {\n",
       "        vertical-align: top;\n",
       "    }\n",
       "\n",
       "    .dataframe thead th {\n",
       "        text-align: right;\n",
       "    }\n",
       "</style>\n",
       "<table border=\"1\" class=\"dataframe\">\n",
       "  <thead>\n",
       "    <tr style=\"text-align: right;\">\n",
       "      <th></th>\n",
       "      <th>Cement (component 1)(kg in a m^3 mixture)</th>\n",
       "      <th>Blast Furnace Slag (component 2)(kg in a m^3 mixture)</th>\n",
       "      <th>Fly Ash (component 3)(kg in a m^3 mixture)</th>\n",
       "      <th>Water  (component 4)(kg in a m^3 mixture)</th>\n",
       "      <th>Superplasticizer (component 5)(kg in a m^3 mixture)</th>\n",
       "      <th>Coarse Aggregate  (component 6)(kg in a m^3 mixture)</th>\n",
       "      <th>Fine Aggregate (component 7)(kg in a m^3 mixture)</th>\n",
       "      <th>Age (day)</th>\n",
       "      <th>Concrete compressive strength(MPa, megapascals)</th>\n",
       "    </tr>\n",
       "  </thead>\n",
       "  <tbody>\n",
       "    <tr>\n",
       "      <td>511</td>\n",
       "      <td>424.0</td>\n",
       "      <td>22.0</td>\n",
       "      <td>132.0</td>\n",
       "      <td>178.0</td>\n",
       "      <td>8.5</td>\n",
       "      <td>822.0</td>\n",
       "      <td>750.0</td>\n",
       "      <td>56</td>\n",
       "      <td>65.70</td>\n",
       "    </tr>\n",
       "    <tr>\n",
       "      <td>1024</td>\n",
       "      <td>166.0</td>\n",
       "      <td>259.7</td>\n",
       "      <td>0.0</td>\n",
       "      <td>183.2</td>\n",
       "      <td>12.7</td>\n",
       "      <td>858.8</td>\n",
       "      <td>826.8</td>\n",
       "      <td>28</td>\n",
       "      <td>37.92</td>\n",
       "    </tr>\n",
       "    <tr>\n",
       "      <td>366</td>\n",
       "      <td>214.9</td>\n",
       "      <td>53.8</td>\n",
       "      <td>121.9</td>\n",
       "      <td>155.6</td>\n",
       "      <td>9.6</td>\n",
       "      <td>1014.3</td>\n",
       "      <td>780.6</td>\n",
       "      <td>28</td>\n",
       "      <td>52.20</td>\n",
       "    </tr>\n",
       "    <tr>\n",
       "      <td>1003</td>\n",
       "      <td>366.0</td>\n",
       "      <td>187.0</td>\n",
       "      <td>0.0</td>\n",
       "      <td>191.3</td>\n",
       "      <td>6.6</td>\n",
       "      <td>824.3</td>\n",
       "      <td>756.9</td>\n",
       "      <td>28</td>\n",
       "      <td>65.91</td>\n",
       "    </tr>\n",
       "    <tr>\n",
       "      <td>17</td>\n",
       "      <td>342.0</td>\n",
       "      <td>38.0</td>\n",
       "      <td>0.0</td>\n",
       "      <td>228.0</td>\n",
       "      <td>0.0</td>\n",
       "      <td>932.0</td>\n",
       "      <td>670.0</td>\n",
       "      <td>365</td>\n",
       "      <td>56.14</td>\n",
       "    </tr>\n",
       "  </tbody>\n",
       "</table>\n",
       "</div>"
      ],
      "text/plain": [
       "      Cement (component 1)(kg in a m^3 mixture)  \\\n",
       "511                                       424.0   \n",
       "1024                                      166.0   \n",
       "366                                       214.9   \n",
       "1003                                      366.0   \n",
       "17                                        342.0   \n",
       "\n",
       "      Blast Furnace Slag (component 2)(kg in a m^3 mixture)  \\\n",
       "511                                                22.0       \n",
       "1024                                              259.7       \n",
       "366                                                53.8       \n",
       "1003                                              187.0       \n",
       "17                                                 38.0       \n",
       "\n",
       "      Fly Ash (component 3)(kg in a m^3 mixture)  \\\n",
       "511                                        132.0   \n",
       "1024                                         0.0   \n",
       "366                                        121.9   \n",
       "1003                                         0.0   \n",
       "17                                           0.0   \n",
       "\n",
       "      Water  (component 4)(kg in a m^3 mixture)  \\\n",
       "511                                       178.0   \n",
       "1024                                      183.2   \n",
       "366                                       155.6   \n",
       "1003                                      191.3   \n",
       "17                                        228.0   \n",
       "\n",
       "      Superplasticizer (component 5)(kg in a m^3 mixture)  \\\n",
       "511                                                 8.5     \n",
       "1024                                               12.7     \n",
       "366                                                 9.6     \n",
       "1003                                                6.6     \n",
       "17                                                  0.0     \n",
       "\n",
       "      Coarse Aggregate  (component 6)(kg in a m^3 mixture)  \\\n",
       "511                                               822.0      \n",
       "1024                                              858.8      \n",
       "366                                              1014.3      \n",
       "1003                                              824.3      \n",
       "17                                                932.0      \n",
       "\n",
       "      Fine Aggregate (component 7)(kg in a m^3 mixture)  Age (day)  \\\n",
       "511                                               750.0         56   \n",
       "1024                                              826.8         28   \n",
       "366                                               780.6         28   \n",
       "1003                                              756.9         28   \n",
       "17                                                670.0        365   \n",
       "\n",
       "      Concrete compressive strength(MPa, megapascals)   \n",
       "511                                              65.70  \n",
       "1024                                             37.92  \n",
       "366                                              52.20  \n",
       "1003                                             65.91  \n",
       "17                                               56.14  "
      ]
     },
     "execution_count": 21,
     "metadata": {},
     "output_type": "execute_result"
    }
   ],
   "source": [
    "data.head()\n",
    "#no missing values(NaN)"
   ]
  },
  {
   "cell_type": "code",
   "execution_count": 22,
   "metadata": {},
   "outputs": [],
   "source": [
    "#input set\n",
    "x = df[:,:8].astype('float32')\n",
    "#output set\n",
    "y = df[:,8].astype('float32')"
   ]
  },
  {
   "cell_type": "code",
   "execution_count": 23,
   "metadata": {},
   "outputs": [
    {
     "data": {
      "text/plain": [
       "(1030, 8)"
      ]
     },
     "execution_count": 23,
     "metadata": {},
     "output_type": "execute_result"
    }
   ],
   "source": [
    "x.shape"
   ]
  },
  {
   "cell_type": "code",
   "execution_count": 24,
   "metadata": {},
   "outputs": [
    {
     "data": {
      "text/plain": [
       "(1030,)"
      ]
     },
     "execution_count": 24,
     "metadata": {},
     "output_type": "execute_result"
    }
   ],
   "source": [
    "y.shape"
   ]
  },
  {
   "cell_type": "code",
   "execution_count": 25,
   "metadata": {},
   "outputs": [],
   "source": [
    "#50 training\n",
    "train_input = x[:515,:]\n",
    "train_label = y[:515]\n",
    "#30 testing\n",
    "test_input = x[515:824,:]\n",
    "test_label = y[515:824]\n",
    "#20 validation\n",
    "val_input = x[824:,:]\n",
    "val_label = y[824:]"
   ]
  },
  {
   "cell_type": "code",
   "execution_count": 26,
   "metadata": {},
   "outputs": [
    {
     "data": {
      "text/plain": [
       "(515, 8)"
      ]
     },
     "execution_count": 26,
     "metadata": {},
     "output_type": "execute_result"
    }
   ],
   "source": [
    "train_input.shape"
   ]
  },
  {
   "cell_type": "code",
   "execution_count": 27,
   "metadata": {},
   "outputs": [
    {
     "data": {
      "text/plain": [
       "(515,)"
      ]
     },
     "execution_count": 27,
     "metadata": {},
     "output_type": "execute_result"
    }
   ],
   "source": [
    "train_label.shape"
   ]
  },
  {
   "cell_type": "code",
   "execution_count": 28,
   "metadata": {},
   "outputs": [
    {
     "data": {
      "text/plain": [
       "(309, 8)"
      ]
     },
     "execution_count": 28,
     "metadata": {},
     "output_type": "execute_result"
    }
   ],
   "source": [
    "test_input.shape"
   ]
  },
  {
   "cell_type": "code",
   "execution_count": 29,
   "metadata": {},
   "outputs": [
    {
     "data": {
      "text/plain": [
       "(206, 8)"
      ]
     },
     "execution_count": 29,
     "metadata": {},
     "output_type": "execute_result"
    }
   ],
   "source": [
    "val_input.shape"
   ]
  },
  {
   "cell_type": "code",
   "execution_count": 30,
   "metadata": {},
   "outputs": [],
   "source": [
    "#building model\n",
    "model = models.Sequential()\n",
    "model.add(layers.Dense(10 , activation = 'relu',input_shape = (8,)))\n",
    "model.add(layers.Dense(8 , activation = 'relu'))\n",
    "model.add(layers.Dense(6 , activation = 'relu'))\n",
    "model.add(layers.Dense(1))"
   ]
  },
  {
   "cell_type": "code",
   "execution_count": 31,
   "metadata": {},
   "outputs": [],
   "source": [
    "model.compile(optimizer = 'rmsprop', loss = 'mse', metrics = ['mae'])"
   ]
  },
  {
   "cell_type": "code",
   "execution_count": 32,
   "metadata": {},
   "outputs": [
    {
     "name": "stdout",
     "output_type": "stream",
     "text": [
      "Train on 515 samples, validate on 206 samples\n",
      "Epoch 1/100\n",
      "515/515 [==============================] - 2s 4ms/sample - loss: 24587.1944 - mae: 111.5426 - val_loss: 319.9661 - val_mae: 14.2774\n",
      "Epoch 2/100\n",
      "515/515 [==============================] - 1s 2ms/sample - loss: 292.2853 - mae: 13.8433 - val_loss: 263.2886 - val_mae: 13.6307\n",
      "Epoch 3/100\n",
      "515/515 [==============================] - 1s 2ms/sample - loss: 228.2498 - mae: 12.4234 - val_loss: 217.8124 - val_mae: 12.3323\n",
      "Epoch 4/100\n",
      "515/515 [==============================] - 1s 2ms/sample - loss: 192.2699 - mae: 11.2237 - val_loss: 188.0274 - val_mae: 11.0799\n",
      "Epoch 5/100\n",
      "515/515 [==============================] - 1s 2ms/sample - loss: 177.6179 - mae: 10.7925 - val_loss: 158.7221 - val_mae: 10.2906\n",
      "Epoch 6/100\n",
      "515/515 [==============================] - 1s 2ms/sample - loss: 162.4522 - mae: 10.2711 - val_loss: 141.3216 - val_mae: 9.7294\n",
      "Epoch 7/100\n",
      "515/515 [==============================] - 1s 2ms/sample - loss: 143.5179 - mae: 9.5257 - val_loss: 132.8217 - val_mae: 9.2259\n",
      "Epoch 8/100\n",
      "515/515 [==============================] - 1s 2ms/sample - loss: 128.9279 - mae: 9.2263 - val_loss: 111.3527 - val_mae: 8.2788\n",
      "Epoch 9/100\n",
      "515/515 [==============================] - 1s 2ms/sample - loss: 120.2965 - mae: 8.8213 - val_loss: 101.8894 - val_mae: 7.8199\n",
      "Epoch 10/100\n",
      "515/515 [==============================] - 1s 2ms/sample - loss: 110.7929 - mae: 8.3657 - val_loss: 96.6441 - val_mae: 7.6112\n",
      "Epoch 11/100\n",
      "515/515 [==============================] - 1s 2ms/sample - loss: 100.8403 - mae: 7.9204 - val_loss: 88.4055 - val_mae: 7.1776\n",
      "Epoch 12/100\n",
      "515/515 [==============================] - 1s 2ms/sample - loss: 94.3986 - mae: 7.6294 - val_loss: 112.1275 - val_mae: 8.7417\n",
      "Epoch 13/100\n",
      "515/515 [==============================] - 1s 2ms/sample - loss: 91.1311 - mae: 7.5389 - val_loss: 155.0839 - val_mae: 10.8197\n",
      "Epoch 14/100\n",
      "515/515 [==============================] - 1s 2ms/sample - loss: 89.8840 - mae: 7.4753 - val_loss: 80.8495 - val_mae: 7.0177\n",
      "Epoch 15/100\n",
      "515/515 [==============================] - 2s 3ms/sample - loss: 84.4848 - mae: 7.2091 - val_loss: 100.5915 - val_mae: 8.0251\n",
      "Epoch 16/100\n",
      "515/515 [==============================] - 2s 5ms/sample - loss: 85.2693 - mae: 7.4313 - val_loss: 85.7883 - val_mae: 7.2020\n",
      "Epoch 17/100\n",
      "515/515 [==============================] - 2s 4ms/sample - loss: 83.2956 - mae: 7.2229 - val_loss: 95.8394 - val_mae: 8.0538\n",
      "Epoch 18/100\n",
      "515/515 [==============================] - 2s 4ms/sample - loss: 79.2139 - mae: 6.9169 - val_loss: 72.0508 - val_mae: 6.2331\n",
      "Epoch 19/100\n",
      "515/515 [==============================] - 2s 4ms/sample - loss: 79.2468 - mae: 7.0709 - val_loss: 115.5848 - val_mae: 9.1305\n",
      "Epoch 20/100\n",
      "515/515 [==============================] - 2s 3ms/sample - loss: 77.0842 - mae: 7.0068 - val_loss: 66.6627 - val_mae: 6.1641\n",
      "Epoch 21/100\n",
      "515/515 [==============================] - 2s 4ms/sample - loss: 72.9543 - mae: 6.6373 - val_loss: 67.5452 - val_mae: 6.1134\n",
      "Epoch 22/100\n",
      "515/515 [==============================] - 2s 4ms/sample - loss: 69.8319 - mae: 6.4760 - val_loss: 66.0809 - val_mae: 5.9683\n",
      "Epoch 23/100\n",
      "515/515 [==============================] - 2s 4ms/sample - loss: 71.6893 - mae: 6.5309 - val_loss: 63.3671 - val_mae: 6.0085\n",
      "Epoch 24/100\n",
      "515/515 [==============================] - 2s 4ms/sample - loss: 69.9137 - mae: 6.4772 - val_loss: 64.2158 - val_mae: 6.2578\n",
      "Epoch 25/100\n",
      "515/515 [==============================] - 2s 3ms/sample - loss: 66.4209 - mae: 6.4327 - val_loss: 94.7352 - val_mae: 8.1853\n",
      "Epoch 26/100\n",
      "515/515 [==============================] - 2s 3ms/sample - loss: 68.3943 - mae: 6.4529 - val_loss: 61.6708 - val_mae: 6.0732\n",
      "Epoch 27/100\n",
      "515/515 [==============================] - 2s 4ms/sample - loss: 65.2342 - mae: 6.2069 - val_loss: 60.4191 - val_mae: 5.8632\n",
      "Epoch 28/100\n",
      "515/515 [==============================] - 2s 4ms/sample - loss: 65.4959 - mae: 6.3180 - val_loss: 61.1143 - val_mae: 5.9096\n",
      "Epoch 29/100\n",
      "515/515 [==============================] - 2s 3ms/sample - loss: 64.2939 - mae: 6.1989 - val_loss: 53.6065 - val_mae: 5.6040\n",
      "Epoch 30/100\n",
      "515/515 [==============================] - 2s 4ms/sample - loss: 62.7931 - mae: 6.0377 - val_loss: 212.3141 - val_mae: 12.5685\n",
      "Epoch 31/100\n",
      "515/515 [==============================] - 2s 3ms/sample - loss: 63.7007 - mae: 6.1186 - val_loss: 61.6976 - val_mae: 6.0309\n",
      "Epoch 32/100\n",
      "515/515 [==============================] - 2s 4ms/sample - loss: 59.3680 - mae: 5.9775 - val_loss: 78.2337 - val_mae: 7.1885\n",
      "Epoch 33/100\n",
      "515/515 [==============================] - 2s 4ms/sample - loss: 58.9280 - mae: 5.9509 - val_loss: 62.6275 - val_mae: 6.2775\n",
      "Epoch 34/100\n",
      "515/515 [==============================] - 2s 4ms/sample - loss: 62.1597 - mae: 6.1888 - val_loss: 52.2266 - val_mae: 5.4215\n",
      "Epoch 35/100\n",
      "515/515 [==============================] - 2s 3ms/sample - loss: 57.6859 - mae: 5.8389 - val_loss: 55.4162 - val_mae: 5.6591\n",
      "Epoch 36/100\n",
      "515/515 [==============================] - 2s 3ms/sample - loss: 59.1490 - mae: 5.9328 - val_loss: 117.7203 - val_mae: 9.4316\n",
      "Epoch 37/100\n",
      "515/515 [==============================] - 2s 4ms/sample - loss: 59.7964 - mae: 5.9954 - val_loss: 82.3985 - val_mae: 7.0769\n",
      "Epoch 38/100\n",
      "515/515 [==============================] - 1s 2ms/sample - loss: 58.5101 - mae: 6.0065 - val_loss: 55.5469 - val_mae: 5.6191\n",
      "Epoch 39/100\n",
      "515/515 [==============================] - 1s 2ms/sample - loss: 57.9069 - mae: 6.0020 - val_loss: 54.9526 - val_mae: 5.6729\n",
      "Epoch 40/100\n",
      "515/515 [==============================] - 1s 3ms/sample - loss: 58.1386 - mae: 5.9858 - val_loss: 52.7924 - val_mae: 5.4562\n",
      "Epoch 41/100\n",
      "515/515 [==============================] - 2s 3ms/sample - loss: 58.5217 - mae: 5.9670 - val_loss: 53.8338 - val_mae: 5.4684\n",
      "Epoch 42/100\n",
      "515/515 [==============================] - 1s 3ms/sample - loss: 56.8285 - mae: 5.8700 - val_loss: 60.0235 - val_mae: 6.2513\n",
      "Epoch 43/100\n",
      "515/515 [==============================] - 1s 2ms/sample - loss: 58.0764 - mae: 5.8567 - val_loss: 52.2566 - val_mae: 5.4694\n",
      "Epoch 44/100\n",
      "515/515 [==============================] - 2s 3ms/sample - loss: 56.5465 - mae: 5.8783 - val_loss: 53.7588 - val_mae: 5.6089\n",
      "Epoch 45/100\n",
      "515/515 [==============================] - 2s 4ms/sample - loss: 56.1249 - mae: 5.8203 - val_loss: 57.1971 - val_mae: 5.6539\n",
      "Epoch 46/100\n",
      "515/515 [==============================] - 2s 3ms/sample - loss: 52.7655 - mae: 5.7990 - val_loss: 55.7704 - val_mae: 5.9046\n",
      "Epoch 47/100\n",
      "515/515 [==============================] - 2s 3ms/sample - loss: 53.4540 - mae: 5.6928 - val_loss: 50.7310 - val_mae: 5.4637\n",
      "Epoch 48/100\n",
      "515/515 [==============================] - 1s 2ms/sample - loss: 56.7911 - mae: 5.8452 - val_loss: 53.3593 - val_mae: 5.5399\n",
      "Epoch 49/100\n",
      "515/515 [==============================] - 1s 2ms/sample - loss: 54.4327 - mae: 5.8167 - val_loss: 55.9185 - val_mae: 5.7942\n",
      "Epoch 50/100\n",
      "515/515 [==============================] - 1s 2ms/sample - loss: 55.0300 - mae: 5.7882 - val_loss: 72.3880 - val_mae: 6.7570\n",
      "Epoch 51/100\n",
      "515/515 [==============================] - 1s 2ms/sample - loss: 53.3514 - mae: 5.7058 - val_loss: 61.9922 - val_mae: 6.2204\n",
      "Epoch 52/100\n",
      "515/515 [==============================] - 1s 2ms/sample - loss: 54.2221 - mae: 5.8280 - val_loss: 49.7437 - val_mae: 5.3351\n",
      "Epoch 53/100\n",
      "515/515 [==============================] - 1s 2ms/sample - loss: 53.6310 - mae: 5.7381 - val_loss: 75.6845 - val_mae: 6.7734\n",
      "Epoch 54/100\n",
      "515/515 [==============================] - 1s 2ms/sample - loss: 53.9212 - mae: 5.6998 - val_loss: 50.6207 - val_mae: 5.3791\n",
      "Epoch 55/100\n",
      "515/515 [==============================] - 1s 2ms/sample - loss: 55.2840 - mae: 5.8689 - val_loss: 56.4335 - val_mae: 5.7530\n",
      "Epoch 56/100\n",
      "515/515 [==============================] - 1s 2ms/sample - loss: 53.9431 - mae: 5.7799 - val_loss: 58.1488 - val_mae: 5.9396\n",
      "Epoch 57/100\n",
      "515/515 [==============================] - 1s 3ms/sample - loss: 51.3847 - mae: 5.6211 - val_loss: 51.7228 - val_mae: 5.5691\n",
      "Epoch 58/100\n",
      "515/515 [==============================] - 2s 3ms/sample - loss: 52.2823 - mae: 5.5530 - val_loss: 54.7832 - val_mae: 5.5934\n",
      "Epoch 59/100\n",
      "515/515 [==============================] - 3s 5ms/sample - loss: 50.6925 - mae: 5.5887 - val_loss: 56.2602 - val_mae: 5.6279\n"
     ]
    },
    {
     "name": "stdout",
     "output_type": "stream",
     "text": [
      "Epoch 60/100\n",
      "515/515 [==============================] - 2s 3ms/sample - loss: 55.0014 - mae: 5.7990 - val_loss: 53.4931 - val_mae: 5.5020\n",
      "Epoch 61/100\n",
      "515/515 [==============================] - 2s 3ms/sample - loss: 51.1437 - mae: 5.5828 - val_loss: 55.2804 - val_mae: 5.6070\n",
      "Epoch 62/100\n",
      "515/515 [==============================] - 2s 3ms/sample - loss: 53.8512 - mae: 5.7081 - val_loss: 51.4424 - val_mae: 5.4351\n",
      "Epoch 63/100\n",
      "515/515 [==============================] - 2s 4ms/sample - loss: 51.1801 - mae: 5.6049 - val_loss: 53.0756 - val_mae: 5.4455\n",
      "Epoch 64/100\n",
      "515/515 [==============================] - 2s 4ms/sample - loss: 52.1670 - mae: 5.6033 - val_loss: 53.5579 - val_mae: 5.7321\n",
      "Epoch 65/100\n",
      "515/515 [==============================] - 2s 4ms/sample - loss: 51.9227 - mae: 5.6626 - val_loss: 62.3708 - val_mae: 5.9790\n",
      "Epoch 66/100\n",
      "515/515 [==============================] - 2s 4ms/sample - loss: 52.1659 - mae: 5.6564 - val_loss: 77.2425 - val_mae: 6.7980\n",
      "Epoch 67/100\n",
      "515/515 [==============================] - 2s 4ms/sample - loss: 52.0992 - mae: 5.6094 - val_loss: 54.8161 - val_mae: 5.5718\n",
      "Epoch 68/100\n",
      "515/515 [==============================] - 2s 4ms/sample - loss: 52.2278 - mae: 5.7563 - val_loss: 53.7426 - val_mae: 5.5738\n",
      "Epoch 69/100\n",
      "515/515 [==============================] - 2s 4ms/sample - loss: 50.4580 - mae: 5.6575 - val_loss: 52.4925 - val_mae: 5.5484\n",
      "Epoch 70/100\n",
      "515/515 [==============================] - 2s 4ms/sample - loss: 50.4276 - mae: 5.5318 - val_loss: 50.2038 - val_mae: 5.4654\n",
      "Epoch 71/100\n",
      "515/515 [==============================] - 2s 4ms/sample - loss: 50.3501 - mae: 5.5402 - val_loss: 66.1290 - val_mae: 6.4667\n",
      "Epoch 72/100\n",
      "515/515 [==============================] - 2s 4ms/sample - loss: 51.0676 - mae: 5.5695 - val_loss: 67.7147 - val_mae: 6.2333\n",
      "Epoch 73/100\n",
      "515/515 [==============================] - 2s 4ms/sample - loss: 51.7190 - mae: 5.5701 - val_loss: 55.9496 - val_mae: 5.5743\n",
      "Epoch 74/100\n",
      "515/515 [==============================] - 2s 4ms/sample - loss: 50.6518 - mae: 5.6467 - val_loss: 56.0447 - val_mae: 5.8973\n",
      "Epoch 75/100\n",
      "515/515 [==============================] - 2s 5ms/sample - loss: 49.5615 - mae: 5.4862 - val_loss: 52.0883 - val_mae: 5.4256\n",
      "Epoch 76/100\n",
      "515/515 [==============================] - 2s 4ms/sample - loss: 52.0327 - mae: 5.6778 - val_loss: 51.6689 - val_mae: 5.3736\n",
      "Epoch 77/100\n",
      "515/515 [==============================] - 2s 3ms/sample - loss: 51.2246 - mae: 5.5678 - val_loss: 54.4689 - val_mae: 5.5276\n",
      "Epoch 78/100\n",
      "515/515 [==============================] - 2s 4ms/sample - loss: 51.1232 - mae: 5.6408 - val_loss: 54.8120 - val_mae: 5.6240\n",
      "Epoch 79/100\n",
      "515/515 [==============================] - 2s 4ms/sample - loss: 49.6225 - mae: 5.5598 - val_loss: 86.2650 - val_mae: 7.3586\n",
      "Epoch 80/100\n",
      "515/515 [==============================] - 2s 4ms/sample - loss: 51.2161 - mae: 5.5449 - val_loss: 51.4937 - val_mae: 5.4167\n",
      "Epoch 81/100\n",
      "515/515 [==============================] - 2s 4ms/sample - loss: 51.0401 - mae: 5.6013 - val_loss: 49.1678 - val_mae: 5.2796\n",
      "Epoch 82/100\n",
      "515/515 [==============================] - 2s 4ms/sample - loss: 51.0313 - mae: 5.6378 - val_loss: 48.9351 - val_mae: 5.2552\n",
      "Epoch 83/100\n",
      "515/515 [==============================] - 2s 4ms/sample - loss: 49.0019 - mae: 5.4708 - val_loss: 67.9260 - val_mae: 6.3219\n",
      "Epoch 84/100\n",
      "515/515 [==============================] - 2s 5ms/sample - loss: 51.4446 - mae: 5.6916 - val_loss: 48.8770 - val_mae: 5.2510\n",
      "Epoch 85/100\n",
      "515/515 [==============================] - 2s 3ms/sample - loss: 49.7148 - mae: 5.4642 - val_loss: 50.2030 - val_mae: 5.2793\n",
      "Epoch 86/100\n",
      "515/515 [==============================] - 2s 3ms/sample - loss: 50.4060 - mae: 5.5622 - val_loss: 51.9367 - val_mae: 5.4725\n",
      "Epoch 87/100\n",
      "515/515 [==============================] - 3s 6ms/sample - loss: 51.6603 - mae: 5.5723 - val_loss: 53.4909 - val_mae: 5.7365\n",
      "Epoch 88/100\n",
      "515/515 [==============================] - 2s 4ms/sample - loss: 48.5943 - mae: 5.4417 - val_loss: 66.0182 - val_mae: 6.6152\n",
      "Epoch 89/100\n",
      "515/515 [==============================] - 2s 5ms/sample - loss: 48.6880 - mae: 5.5070 - val_loss: 50.8969 - val_mae: 5.3602\n",
      "Epoch 90/100\n",
      "515/515 [==============================] - 2s 4ms/sample - loss: 51.1522 - mae: 5.6680 - val_loss: 48.6454 - val_mae: 5.2970\n",
      "Epoch 91/100\n",
      "515/515 [==============================] - 3s 5ms/sample - loss: 50.2035 - mae: 5.5054 - val_loss: 49.1582 - val_mae: 5.2498\n",
      "Epoch 92/100\n",
      "515/515 [==============================] - 2s 5ms/sample - loss: 51.2570 - mae: 5.6362 - val_loss: 47.3633 - val_mae: 5.2011\n",
      "Epoch 93/100\n",
      "515/515 [==============================] - 2s 5ms/sample - loss: 48.4573 - mae: 5.4455 - val_loss: 93.7915 - val_mae: 7.6835\n",
      "Epoch 94/100\n",
      "515/515 [==============================] - 2s 5ms/sample - loss: 49.9756 - mae: 5.5256 - val_loss: 50.3040 - val_mae: 5.2900\n",
      "Epoch 95/100\n",
      "515/515 [==============================] - 2s 5ms/sample - loss: 49.2398 - mae: 5.4327 - val_loss: 50.8153 - val_mae: 5.4565\n",
      "Epoch 96/100\n",
      "515/515 [==============================] - 2s 4ms/sample - loss: 49.1228 - mae: 5.5082 - val_loss: 48.1077 - val_mae: 5.2441\n",
      "Epoch 97/100\n",
      "515/515 [==============================] - 2s 4ms/sample - loss: 48.1024 - mae: 5.4209 - val_loss: 53.4047 - val_mae: 5.5818\n",
      "Epoch 98/100\n",
      "515/515 [==============================] - 3s 5ms/sample - loss: 49.6762 - mae: 5.4804 - val_loss: 61.2290 - val_mae: 5.8403\n",
      "Epoch 99/100\n",
      "515/515 [==============================] - 2s 5ms/sample - loss: 49.0326 - mae: 5.5144 - val_loss: 48.3544 - val_mae: 5.3634\n",
      "Epoch 100/100\n",
      "515/515 [==============================] - 2s 4ms/sample - loss: 49.9658 - mae: 5.4482 - val_loss: 53.9277 - val_mae: 5.3791\n"
     ]
    }
   ],
   "source": [
    "history = model.fit(train_input,train_label,epochs = 100,batch_size =4 , validation_data = (val_input,val_label))"
   ]
  },
  {
   "cell_type": "code",
   "execution_count": 33,
   "metadata": {
    "scrolled": true
   },
   "outputs": [
    {
     "name": "stdout",
     "output_type": "stream",
     "text": [
      "\r",
      "309/1 [======================================================================================================================================================================================================================================================================================================================================================================================================================================================================================================================================================================================================================================================================================================================================================================================================================================================================================================================================================================================================================================================================================================================================================================================================================================================================================================================================================================================================================================================================================================================================================================================================================================================================================================================================================================================================================================================================================================================================================================================================================================================================================================================================================================================================================================================================================================================================================================================================================================================================================================================================================================================================================================================================================================================================================================================================================================================================================================================================================================================================================================================================================================================================================================================================================================================================================================================================================================================================================================================================================================================================================================================================================================================================================================================================================================================================================================================================================================================================================================================================================================================================================================================================================================================================================================================================================================================================================================================================================================================================================================================================================================================================================================================================================================================================================================================================================================================================================================================================================================================================================================================================================================================================================================================================================================================================================================================================================================================================================================================================================================================================================================================================================================================================================================================================================================================================================================================================================================================================================================================================================================================================================================================================================================================================================================================================================================================================================================================================================================================================================================================================================================================================================================================================================================================================================================================================================================================================================================================================================================================================================================================================================================================================================================================================================================================================================================================================================================================================================================================================================================================================================================================================================================================================================================================================================================================================================================================================================================================================================================================================================================================================================================================================================================================================================================================================================================================================================================================================================================================================================================================================================================================================================================================================================================================================================================================================================================================================================================================================================================================================================================================================================================================================================================================================================================================================================================================================================================================================================================================================================================================================================================================================================================================] - 0s 110us/sample - loss: 73.4788 - mae: 6.3007\n"
     ]
    }
   ],
   "source": [
    "result = model.evaluate(test_input, test_label)"
   ]
  },
  {
   "cell_type": "code",
   "execution_count": 36,
   "metadata": {},
   "outputs": [
    {
     "data": {
      "image/png": "[encoded data removed]",
      "text/plain": [
       "<Figure size 720x360 with 1 Axes>"
      ]
     },
     "metadata": {
      "needs_background": "light"
     },
     "output_type": "display_data"
    }
   ],
   "source": [
    "plt.figure(figsize = (10,5))\n",
    "plt.plot(history.history['mae'],'bo')\n",
    "plt.plot(history.history['val_mae'],'b')\n",
    "plt.title('training and validation mae')\n",
    "plt.xlabel('epochs')\n",
    "plt.ylabel('absolute error')\n",
    "plt.legend(['train_mae','val_mae'],loc= 'upper left')\n",
    "plt.show()"
   ]
  },
  {
   "cell_type": "code",
   "execution_count": null,
   "metadata": {},
   "outputs": [],
   "source": []
  }
 ],
 "metadata": {
  "kernelspec": {
   "display_name": "Python 3",
   "language": "python",
   "name": "python3"
  },
  "language_info": {
   "codemirror_mode": {
    "name": "ipython",
    "version": 3
   },
   "file_extension": ".py",
   "mimetype": "text/x-python",
   "name": "python",
   "nbconvert_exporter": "python",
   "pygments_lexer": "ipython3",
   "version": "3.7.4"
  }
 },
 "nbformat": 4,
 "nbformat_minor": 2
}
