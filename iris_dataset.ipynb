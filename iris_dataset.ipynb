{
 "cells": [
  {
   "cell_type": "code",
   "execution_count": 1,
   "metadata": {},
   "outputs": [],
   "source": [
    "import tensorflow as tf\n",
    "import numpy as np\n",
    "import pandas as pd\n",
    "from sklearn.utils import shuffle\n",
    "from sklearn.preprocessing import LabelEncoder\n",
    "from tensorflow.keras import models, layers, utils"
   ]
  },
  {
   "cell_type": "code",
   "execution_count": 2,
   "metadata": {},
   "outputs": [
    {
     "name": "stdout",
     "output_type": "stream",
     "text": [
      "2.0.0\n"
     ]
    }
   ],
   "source": [
    "print(tf.__version__)"
   ]
  },
  {
   "cell_type": "code",
   "execution_count": 329,
   "metadata": {},
   "outputs": [],
   "source": [
    "data = pd.read_csv('iris.csv')"
   ]
  },
  {
   "cell_type": "code",
   "execution_count": 330,
   "metadata": {},
   "outputs": [
    {
     "data": {
      "text/html": [
       "<div>\n",
       "<style scoped>\n",
       "    .dataframe tbody tr th:only-of-type {\n",
       "        vertical-align: middle;\n",
       "    }\n",
       "\n",
       "    .dataframe tbody tr th {\n",
       "        vertical-align: top;\n",
       "    }\n",
       "\n",
       "    .dataframe thead th {\n",
       "        text-align: right;\n",
       "    }\n",
       "</style>\n",
       "<table border=\"1\" class=\"dataframe\">\n",
       "  <thead>\n",
       "    <tr style=\"text-align: right;\">\n",
       "      <th></th>\n",
       "      <th>sepal.length</th>\n",
       "      <th>sepal.width</th>\n",
       "      <th>petal.length</th>\n",
       "      <th>petal.width</th>\n",
       "      <th>variety</th>\n",
       "    </tr>\n",
       "  </thead>\n",
       "  <tbody>\n",
       "    <tr>\n",
       "      <th>0</th>\n",
       "      <td>5.1</td>\n",
       "      <td>3.5</td>\n",
       "      <td>1.4</td>\n",
       "      <td>0.2</td>\n",
       "      <td>Setosa</td>\n",
       "    </tr>\n",
       "    <tr>\n",
       "      <th>1</th>\n",
       "      <td>4.9</td>\n",
       "      <td>3.0</td>\n",
       "      <td>1.4</td>\n",
       "      <td>0.2</td>\n",
       "      <td>Setosa</td>\n",
       "    </tr>\n",
       "    <tr>\n",
       "      <th>2</th>\n",
       "      <td>4.7</td>\n",
       "      <td>3.2</td>\n",
       "      <td>1.3</td>\n",
       "      <td>0.2</td>\n",
       "      <td>Setosa</td>\n",
       "    </tr>\n",
       "    <tr>\n",
       "      <th>3</th>\n",
       "      <td>4.6</td>\n",
       "      <td>3.1</td>\n",
       "      <td>1.5</td>\n",
       "      <td>0.2</td>\n",
       "      <td>Setosa</td>\n",
       "    </tr>\n",
       "    <tr>\n",
       "      <th>4</th>\n",
       "      <td>5.0</td>\n",
       "      <td>3.6</td>\n",
       "      <td>1.4</td>\n",
       "      <td>0.2</td>\n",
       "      <td>Setosa</td>\n",
       "    </tr>\n",
       "  </tbody>\n",
       "</table>\n",
       "</div>"
      ],
      "text/plain": [
       "   sepal.length  sepal.width  petal.length  petal.width variety\n",
       "0           5.1          3.5           1.4          0.2  Setosa\n",
       "1           4.9          3.0           1.4          0.2  Setosa\n",
       "2           4.7          3.2           1.3          0.2  Setosa\n",
       "3           4.6          3.1           1.5          0.2  Setosa\n",
       "4           5.0          3.6           1.4          0.2  Setosa"
      ]
     },
     "execution_count": 330,
     "metadata": {},
     "output_type": "execute_result"
    }
   ],
   "source": [
    "data.head()"
   ]
  },
  {
   "cell_type": "code",
   "execution_count": 331,
   "metadata": {},
   "outputs": [
    {
     "data": {
      "text/html": [
       "<div>\n",
       "<style scoped>\n",
       "    .dataframe tbody tr th:only-of-type {\n",
       "        vertical-align: middle;\n",
       "    }\n",
       "\n",
       "    .dataframe tbody tr th {\n",
       "        vertical-align: top;\n",
       "    }\n",
       "\n",
       "    .dataframe thead th {\n",
       "        text-align: right;\n",
       "    }\n",
       "</style>\n",
       "<table border=\"1\" class=\"dataframe\">\n",
       "  <thead>\n",
       "    <tr style=\"text-align: right;\">\n",
       "      <th></th>\n",
       "      <th>sepal.length</th>\n",
       "      <th>sepal.width</th>\n",
       "      <th>petal.length</th>\n",
       "      <th>petal.width</th>\n",
       "      <th>variety</th>\n",
       "    </tr>\n",
       "  </thead>\n",
       "  <tbody>\n",
       "    <tr>\n",
       "      <th>9</th>\n",
       "      <td>4.9</td>\n",
       "      <td>3.1</td>\n",
       "      <td>1.5</td>\n",
       "      <td>0.1</td>\n",
       "      <td>Setosa</td>\n",
       "    </tr>\n",
       "    <tr>\n",
       "      <th>120</th>\n",
       "      <td>6.9</td>\n",
       "      <td>3.2</td>\n",
       "      <td>5.7</td>\n",
       "      <td>2.3</td>\n",
       "      <td>Virginica</td>\n",
       "    </tr>\n",
       "    <tr>\n",
       "      <th>99</th>\n",
       "      <td>5.7</td>\n",
       "      <td>2.8</td>\n",
       "      <td>4.1</td>\n",
       "      <td>1.3</td>\n",
       "      <td>Versicolor</td>\n",
       "    </tr>\n",
       "    <tr>\n",
       "      <th>40</th>\n",
       "      <td>5.0</td>\n",
       "      <td>3.5</td>\n",
       "      <td>1.3</td>\n",
       "      <td>0.3</td>\n",
       "      <td>Setosa</td>\n",
       "    </tr>\n",
       "    <tr>\n",
       "      <th>85</th>\n",
       "      <td>6.0</td>\n",
       "      <td>3.4</td>\n",
       "      <td>4.5</td>\n",
       "      <td>1.6</td>\n",
       "      <td>Versicolor</td>\n",
       "    </tr>\n",
       "  </tbody>\n",
       "</table>\n",
       "</div>"
      ],
      "text/plain": [
       "     sepal.length  sepal.width  petal.length  petal.width     variety\n",
       "9             4.9          3.1           1.5          0.1      Setosa\n",
       "120           6.9          3.2           5.7          2.3   Virginica\n",
       "99            5.7          2.8           4.1          1.3  Versicolor\n",
       "40            5.0          3.5           1.3          0.3      Setosa\n",
       "85            6.0          3.4           4.5          1.6  Versicolor"
      ]
     },
     "execution_count": 331,
     "metadata": {},
     "output_type": "execute_result"
    }
   ],
   "source": [
    "data = shuffle(data)\n",
    "data.head()"
   ]
  },
  {
   "cell_type": "code",
   "execution_count": 332,
   "metadata": {},
   "outputs": [
    {
     "name": "stdout",
     "output_type": "stream",
     "text": [
      "object\n"
     ]
    }
   ],
   "source": [
    "#converting into numpy array\n",
    "df = data.values\n",
    "print(df.dtype)\n",
    "#print(df)\n"
   ]
  },
  {
   "cell_type": "code",
   "execution_count": 333,
   "metadata": {},
   "outputs": [
    {
     "data": {
      "text/plain": [
       "(150, 5)"
      ]
     },
     "execution_count": 333,
     "metadata": {},
     "output_type": "execute_result"
    }
   ],
   "source": [
    "df.shape"
   ]
  },
  {
   "cell_type": "markdown",
   "metadata": {},
   "source": [
    "## FOR BREAKING IN 2 (TRAINING AND TESTING)"
   ]
  },
  {
   "cell_type": "code",
   "execution_count": 188,
   "metadata": {},
   "outputs": [],
   "source": [
    "train_inputs = df[:105,:4].astype('float32')  #70%training\n",
    "train_labels = df[:105,4]\n",
    "test_inputs  = df[105:,:4].astype('float32') #30% testing\n",
    "test_labels  = df[105:,4]"
   ]
  },
  {
   "cell_type": "code",
   "execution_count": 189,
   "metadata": {},
   "outputs": [
    {
     "data": {
      "text/plain": [
       "(105, 4)"
      ]
     },
     "execution_count": 189,
     "metadata": {},
     "output_type": "execute_result"
    }
   ],
   "source": [
    "train_inputs.shape"
   ]
  },
  {
   "cell_type": "code",
   "execution_count": 190,
   "metadata": {},
   "outputs": [
    {
     "data": {
      "text/plain": [
       "(105,)"
      ]
     },
     "execution_count": 190,
     "metadata": {},
     "output_type": "execute_result"
    }
   ],
   "source": [
    "train_labels.shape"
   ]
  },
  {
   "cell_type": "code",
   "execution_count": 191,
   "metadata": {},
   "outputs": [
    {
     "data": {
      "text/plain": [
       "(45, 4)"
      ]
     },
     "execution_count": 191,
     "metadata": {},
     "output_type": "execute_result"
    }
   ],
   "source": [
    "test_inputs.shape"
   ]
  },
  {
   "cell_type": "code",
   "execution_count": 192,
   "metadata": {},
   "outputs": [
    {
     "name": "stdout",
     "output_type": "stream",
     "text": [
      "[0 1 0 1 0 2 2 2 2 1 2 1 1 0 1 2 0 1 2 0 0 1 1 0 2 0 0 1 1 0 1 1 2 0 1 1 2\n",
      " 1 2 2 1 2 0 2 2 1 2 1 0 0 1 1 2 1 0 1 1 2 0 0 0 0 2 1 2 0 2 0 2 0 0 0 2 1\n",
      " 1 0 0 2 0 2 2 2 1 1 2 0 1 0 2 1 1 2 0 2 2 0 1 2 2 2 1 1 2 0 2]\n",
      "[0 1 1 1 1 0 0 1 0 1 0 2 0 0 0 2 2 0 1 0 0 1 2 2 0 0 1 0 2 0 2 2 2 1 0 2 2\n",
      " 1 1 2 1 1 0 1 2]\n"
     ]
    }
   ],
   "source": [
    "#encoding labels\n",
    "le = LabelEncoder()\n",
    "encoded_train_labels = le.fit_transform(train_labels)\n",
    "print(encoded_train_labels)\n",
    "\n",
    "\n",
    "encoded_test_labels = le.fit_transform(test_labels)\n",
    "print(encoded_test_labels)"
   ]
  },
  {
   "cell_type": "code",
   "execution_count": 193,
   "metadata": {},
   "outputs": [],
   "source": [
    "#one hot encoding\n",
    "onehot_encoded_trainlabels = utils.to_categorical(encoded_train_labels)\n",
    "onehot_encoded_testlabels = utils.to_categorical(encoded_test_labels)"
   ]
  },
  {
   "cell_type": "code",
   "execution_count": 194,
   "metadata": {},
   "outputs": [
    {
     "name": "stdout",
     "output_type": "stream",
     "text": [
      "['Setosa' 'Versicolor' 'Virginica']\n"
     ]
    }
   ],
   "source": [
    "print(le.classes_)"
   ]
  },
  {
   "cell_type": "code",
   "execution_count": 195,
   "metadata": {},
   "outputs": [
    {
     "data": {
      "text/plain": [
       "array([1., 0., 0.], dtype=float32)"
      ]
     },
     "execution_count": 195,
     "metadata": {},
     "output_type": "execute_result"
    }
   ],
   "source": [
    "onehot_encoded_trainlabels[0]"
   ]
  },
  {
   "cell_type": "code",
   "execution_count": 196,
   "metadata": {},
   "outputs": [],
   "source": [
    "#building model\n",
    "model = models.Sequential()\n",
    "model.add(layers.Dense(8, activation = 'relu', input_shape=(4,)))\n",
    "model.add(layers.Dense(3, activation = 'softmax'))"
   ]
  },
  {
   "cell_type": "code",
   "execution_count": 197,
   "metadata": {},
   "outputs": [],
   "source": [
    "#compiling\n",
    "model.compile(optimizer = 'rmsprop' , loss = 'categorical_crossentropy', metrics = ['acc'])"
   ]
  },
  {
   "cell_type": "code",
   "execution_count": 200,
   "metadata": {},
   "outputs": [
    {
     "name": "stdout",
     "output_type": "stream",
     "text": [
      "Train on 105 samples\n",
      "Epoch 1/70\n",
      "105/105 [==============================] - 0s 570us/sample - loss: 0.5353 - acc: 0.9333\n",
      "Epoch 2/70\n",
      "105/105 [==============================] - 0s 494us/sample - loss: 0.5281 - acc: 0.9143\n",
      "Epoch 3/70\n",
      "105/105 [==============================] - 0s 456us/sample - loss: 0.5217 - acc: 0.9333\n",
      "Epoch 4/70\n",
      "105/105 [==============================] - 0s 437us/sample - loss: 0.5148 - acc: 0.9333\n",
      "Epoch 5/70\n",
      "105/105 [==============================] - 0s 418us/sample - loss: 0.5062 - acc: 0.9238\n",
      "Epoch 6/70\n",
      "105/105 [==============================] - 0s 484us/sample - loss: 0.5005 - acc: 0.9429\n",
      "Epoch 7/70\n",
      "105/105 [==============================] - 0s 532us/sample - loss: 0.4924 - acc: 0.9333\n",
      "Epoch 8/70\n",
      "105/105 [==============================] - 0s 475us/sample - loss: 0.4847 - acc: 0.9524\n",
      "Epoch 9/70\n",
      "105/105 [==============================] - 0s 475us/sample - loss: 0.4787 - acc: 0.9333\n",
      "Epoch 10/70\n",
      "105/105 [==============================] - 0s 465us/sample - loss: 0.4715 - acc: 0.9238\n",
      "Epoch 11/70\n",
      "105/105 [==============================] - 0s 484us/sample - loss: 0.4618 - acc: 0.9524\n",
      "Epoch 12/70\n",
      "105/105 [==============================] - 0s 532us/sample - loss: 0.4582 - acc: 0.9333\n",
      "Epoch 13/70\n",
      "105/105 [==============================] - 0s 484us/sample - loss: 0.4515 - acc: 0.9333\n",
      "Epoch 14/70\n",
      "105/105 [==============================] - 0s 475us/sample - loss: 0.4441 - acc: 0.9333\n",
      "Epoch 15/70\n",
      "105/105 [==============================] - 0s 484us/sample - loss: 0.4388 - acc: 0.9429\n",
      "Epoch 16/70\n",
      "105/105 [==============================] - 0s 504us/sample - loss: 0.4326 - acc: 0.9429\n",
      "Epoch 17/70\n",
      "105/105 [==============================] - 0s 446us/sample - loss: 0.4263 - acc: 0.9429\n",
      "Epoch 18/70\n",
      "105/105 [==============================] - 0s 456us/sample - loss: 0.4207 - acc: 0.9333\n",
      "Epoch 19/70\n",
      "105/105 [==============================] - 0s 513us/sample - loss: 0.4132 - acc: 0.9429\n",
      "Epoch 20/70\n",
      "105/105 [==============================] - 0s 798us/sample - loss: 0.4100 - acc: 0.9333\n",
      "Epoch 21/70\n",
      "105/105 [==============================] - 0s 855us/sample - loss: 0.4022 - acc: 0.9429\n",
      "Epoch 22/70\n",
      "105/105 [==============================] - 0s 674us/sample - loss: 0.3967 - acc: 0.9524\n",
      "Epoch 23/70\n",
      "105/105 [==============================] - 0s 712us/sample - loss: 0.3924 - acc: 0.9524\n",
      "Epoch 24/70\n",
      "105/105 [==============================] - 0s 494us/sample - loss: 0.3846 - acc: 0.9429\n",
      "Epoch 25/70\n",
      "105/105 [==============================] - 0s 617us/sample - loss: 0.3794 - acc: 0.9524\n",
      "Epoch 26/70\n",
      "105/105 [==============================] - 0s 665us/sample - loss: 0.3749 - acc: 0.9524\n",
      "Epoch 27/70\n",
      "105/105 [==============================] - 0s 618us/sample - loss: 0.3688 - acc: 0.9619\n",
      "Epoch 28/70\n",
      "105/105 [==============================] - 0s 598us/sample - loss: 0.3652 - acc: 0.9524\n",
      "Epoch 29/70\n",
      "105/105 [==============================] - 0s 475us/sample - loss: 0.3576 - acc: 0.9619\n",
      "Epoch 30/70\n",
      "105/105 [==============================] - 0s 532us/sample - loss: 0.3541 - acc: 0.9524\n",
      "Epoch 31/70\n",
      "105/105 [==============================] - 0s 541us/sample - loss: 0.3487 - acc: 0.9524\n",
      "Epoch 32/70\n",
      "105/105 [==============================] - 0s 484us/sample - loss: 0.3423 - acc: 0.9619\n",
      "Epoch 33/70\n",
      "105/105 [==============================] - 0s 589us/sample - loss: 0.3401 - acc: 0.9619\n",
      "Epoch 34/70\n",
      "105/105 [==============================] - 0s 570us/sample - loss: 0.3357 - acc: 0.9524\n",
      "Epoch 35/70\n",
      "105/105 [==============================] - 0s 570us/sample - loss: 0.3297 - acc: 0.9714\n",
      "Epoch 36/70\n",
      "105/105 [==============================] - 0s 456us/sample - loss: 0.3251 - acc: 0.9619\n",
      "Epoch 37/70\n",
      "105/105 [==============================] - 0s 503us/sample - loss: 0.3220 - acc: 0.9619\n",
      "Epoch 38/70\n",
      "105/105 [==============================] - 0s 494us/sample - loss: 0.3169 - acc: 0.9619\n",
      "Epoch 39/70\n",
      "105/105 [==============================] - 0s 627us/sample - loss: 0.3139 - acc: 0.9524\n",
      "Epoch 40/70\n",
      "105/105 [==============================] - 0s 674us/sample - loss: 0.3093 - acc: 0.9714\n",
      "Epoch 41/70\n",
      "105/105 [==============================] - 0s 617us/sample - loss: 0.3040 - acc: 0.9524\n",
      "Epoch 42/70\n",
      "105/105 [==============================] - 0s 589us/sample - loss: 0.3010 - acc: 0.9714\n",
      "Epoch 43/70\n",
      "105/105 [==============================] - 0s 475us/sample - loss: 0.2956 - acc: 0.9619\n",
      "Epoch 44/70\n",
      "105/105 [==============================] - 0s 513us/sample - loss: 0.2936 - acc: 0.9714\n",
      "Epoch 45/70\n",
      "105/105 [==============================] - 0s 513us/sample - loss: 0.2884 - acc: 0.9619\n",
      "Epoch 46/70\n",
      "105/105 [==============================] - 0s 456us/sample - loss: 0.2844 - acc: 0.9619\n",
      "Epoch 47/70\n",
      "105/105 [==============================] - 0s 484us/sample - loss: 0.2828 - acc: 0.9714\n",
      "Epoch 48/70\n",
      "105/105 [==============================] - 0s 484us/sample - loss: 0.2768 - acc: 0.9714\n",
      "Epoch 49/70\n",
      "105/105 [==============================] - 0s 465us/sample - loss: 0.2739 - acc: 0.9714\n",
      "Epoch 50/70\n",
      "105/105 [==============================] - 0s 484us/sample - loss: 0.2733 - acc: 0.9524\n",
      "Epoch 51/70\n",
      "105/105 [==============================] - 0s 522us/sample - loss: 0.2672 - acc: 0.9619\n",
      "Epoch 52/70\n",
      "105/105 [==============================] - 0s 579us/sample - loss: 0.2636 - acc: 0.9714\n",
      "Epoch 53/70\n",
      "105/105 [==============================] - 0s 646us/sample - loss: 0.2609 - acc: 0.9714\n",
      "Epoch 54/70\n",
      "105/105 [==============================] - 0s 532us/sample - loss: 0.2566 - acc: 0.9714\n",
      "Epoch 55/70\n",
      "105/105 [==============================] - 0s 646us/sample - loss: 0.2554 - acc: 0.9619\n",
      "Epoch 56/70\n",
      "105/105 [==============================] - 0s 456us/sample - loss: 0.2505 - acc: 0.9714\n",
      "Epoch 57/70\n",
      "105/105 [==============================] - 0s 456us/sample - loss: 0.2458 - acc: 0.9619\n",
      "Epoch 58/70\n",
      "105/105 [==============================] - 0s 427us/sample - loss: 0.2429 - acc: 0.9714\n",
      "Epoch 59/70\n",
      "105/105 [==============================] - 0s 408us/sample - loss: 0.2433 - acc: 0.9714\n",
      "Epoch 60/70\n",
      "105/105 [==============================] - 0s 418us/sample - loss: 0.2369 - acc: 0.9714\n",
      "Epoch 61/70\n",
      "105/105 [==============================] - 0s 427us/sample - loss: 0.2313 - acc: 0.9714\n",
      "Epoch 62/70\n",
      "105/105 [==============================] - 0s 427us/sample - loss: 0.2340 - acc: 0.9714\n",
      "Epoch 63/70\n",
      "105/105 [==============================] - 0s 427us/sample - loss: 0.2299 - acc: 0.9714\n",
      "Epoch 64/70\n",
      "105/105 [==============================] - 0s 437us/sample - loss: 0.2284 - acc: 0.9714\n",
      "Epoch 65/70\n",
      "105/105 [==============================] - 0s 446us/sample - loss: 0.2239 - acc: 0.9714\n",
      "Epoch 66/70\n",
      "105/105 [==============================] - 0s 456us/sample - loss: 0.2231 - acc: 0.9524\n",
      "Epoch 67/70\n",
      "105/105 [==============================] - 0s 503us/sample - loss: 0.2184 - acc: 0.9714\n",
      "Epoch 68/70\n",
      "105/105 [==============================] - 0s 399us/sample - loss: 0.2157 - acc: 0.9619\n",
      "Epoch 69/70\n",
      "105/105 [==============================] - 0s 437us/sample - loss: 0.2151 - acc: 0.9619\n",
      "Epoch 70/70\n",
      "105/105 [==============================] - 0s 589us/sample - loss: 0.2122 - acc: 0.9714\n"
     ]
    }
   ],
   "source": [
    "history = model.fit(train_inputs , onehot_encoded_trainlabels , epochs = 70, batch_size = 4 )"
   ]
  },
  {
   "cell_type": "code",
   "execution_count": 201,
   "metadata": {},
   "outputs": [
    {
     "name": "stdout",
     "output_type": "stream",
     "text": [
      "\r",
      "45/1 [======================================================================================================================================================================================================================================================================================================================================================================================================================================================================================================================================================================================================================================================================================================================================================================================================================================================================================================================================================================================================================================================================================================================================================================================================================================================================================================================================================================================================] - 0s 127us/sample - loss: 0.2603 - acc: 0.9556\n"
     ]
    }
   ],
   "source": [
    "result = model.evaluate(test_inputs , onehot_encoded_testlabels)"
   ]
  },
  {
   "cell_type": "code",
   "execution_count": 210,
   "metadata": {},
   "outputs": [
    {
     "data": {
      "text/plain": [
       "[0.24110334051979912, 0.95555556]"
      ]
     },
     "execution_count": 210,
     "metadata": {},
     "output_type": "execute_result"
    }
   ],
   "source": [
    "result"
   ]
  },
  {
   "cell_type": "markdown",
   "metadata": {},
   "source": [
    "## GRAPH"
   ]
  },
  {
   "cell_type": "code",
   "execution_count": 182,
   "metadata": {},
   "outputs": [],
   "source": [
    "%matplotlib inline\n",
    "import matplotlib.pyplot as plt"
   ]
  },
  {
   "cell_type": "code",
   "execution_count": 211,
   "metadata": {},
   "outputs": [
    {
     "data": {
      "image/png": "[encoded data removed]",
      "text/plain": [
       "<Figure size 720x360 with 1 Axes>"
      ]
     },
     "metadata": {
      "needs_background": "light"
     },
     "output_type": "display_data"
    }
   ],
   "source": [
    "plt.figure(figsize = (10,5))\n",
    "plt.plot(history.history['acc'],'bo')\n",
    "plt.plot(history.history['loss'],'b')\n",
    "plt.title('training loss and accuracy')\n",
    "plt.xlabel('epochs')\n",
    "plt.legend(['acc','loss'])\n",
    "plt.show()"
   ]
  },
  {
   "cell_type": "code",
   "execution_count": null,
   "metadata": {},
   "outputs": [],
   "source": []
  },
  {
   "cell_type": "markdown",
   "metadata": {},
   "source": [
    "## prediction"
   ]
  },
  {
   "cell_type": "code",
   "execution_count": 90,
   "metadata": {},
   "outputs": [],
   "source": [
    "\n",
    "i=3\n",
    "prediction = model.predict_classes(test_inputs[i].reshape(1,4))"
   ]
  },
  {
   "cell_type": "code",
   "execution_count": 91,
   "metadata": {},
   "outputs": [
    {
     "name": "stdout",
     "output_type": "stream",
     "text": [
      "Data = [5.  3.3 1.4 0.2] => Prediction = Setosa => Actual label = Setosa\n"
     ]
    }
   ],
   "source": [
    "#checking\n",
    "if prediction == 0:\n",
    "    print(f'Data = {test_inputs[i]} => Prediction = Setosa => Actual label = {test_labels[i]}')\n",
    "elif prediction == 1:\n",
    "    print(f'Data = {test_inputs[i]} => Prediction = Versicolor => Actual label = {test_labels[i]}')\n",
    "else:\n",
    "     print(f'Data = {test_inputs[i]} => Prediction = Virginica => Actual label = {test_labels[i]}')"
   ]
  },
  {
   "cell_type": "markdown",
   "metadata": {},
   "source": [
    "# FOR BREAKING IN 3 (TRAINING, TESTING AND VALIDATION)"
   ]
  },
  {
   "cell_type": "code",
   "execution_count": 334,
   "metadata": {},
   "outputs": [],
   "source": [
    "train_inputs = df[:75,:4].astype('float32')  #50%training\n",
    "train_labels = df[:75,4]\n",
    "test_inputs  = df[75:128,:4].astype('float32') #30% testing\n",
    "test_labels  = df[75:128,4]\n",
    "val_inputs  = df[128:,:4].astype('float32') #20% validation\n",
    "val_labels  = df[128:,4]"
   ]
  },
  {
   "cell_type": "code",
   "execution_count": 335,
   "metadata": {},
   "outputs": [
    {
     "data": {
      "text/plain": [
       "(75, 4)"
      ]
     },
     "execution_count": 335,
     "metadata": {},
     "output_type": "execute_result"
    }
   ],
   "source": [
    "train_inputs.shape"
   ]
  },
  {
   "cell_type": "code",
   "execution_count": 336,
   "metadata": {},
   "outputs": [
    {
     "data": {
      "text/plain": [
       "(22, 4)"
      ]
     },
     "execution_count": 336,
     "metadata": {},
     "output_type": "execute_result"
    }
   ],
   "source": [
    "val_inputs.shape"
   ]
  },
  {
   "cell_type": "code",
   "execution_count": 337,
   "metadata": {},
   "outputs": [
    {
     "data": {
      "text/plain": [
       "(53, 4)"
      ]
     },
     "execution_count": 337,
     "metadata": {},
     "output_type": "execute_result"
    }
   ],
   "source": [
    "test_inputs.shape"
   ]
  },
  {
   "cell_type": "code",
   "execution_count": 338,
   "metadata": {},
   "outputs": [
    {
     "name": "stdout",
     "output_type": "stream",
     "text": [
      "[0 2 1 0 1 2 2 2 2 0 2 2 1 0 2 1 2 0 0 2 0 1 2 1 1 0 1 0 1 0 2 2 1 0 2 0 1\n",
      " 1 0 0 0 0 0 0 1 0 1 2 2 2 2 0 1 1 1 1 2 2 2 2 0 2 1 1 0 0 2 1 1 2 2 0 0 2\n",
      " 0]\n",
      "[0 1 2 0 0 0 2 1 2 0 2 1 1 1 0 2 0 0 1 1 0 1 0 0 0 2 0 1 2 2 2 1 1 1 1 2 2\n",
      " 1 0 2 2 0 2 1 1 0 2 1 2 0 1 2 1]\n",
      "[2 1 0 0 1 2 1 0 2 1 1 1 1 0 2 1 0 0 2 0 2 1]\n"
     ]
    }
   ],
   "source": [
    "#encoding labels\n",
    "le = LabelEncoder()\n",
    "encoded_train_labels = le.fit_transform(train_labels)\n",
    "print(encoded_train_labels)\n",
    "\n",
    "\n",
    "encoded_test_labels = le.fit_transform(test_labels)\n",
    "print(encoded_test_labels)\n",
    "\n",
    "encoded_val_labels = le.fit_transform(val_labels)\n",
    "print(encoded_val_labels)"
   ]
  },
  {
   "cell_type": "code",
   "execution_count": 339,
   "metadata": {},
   "outputs": [],
   "source": [
    "onehot_encoded_trainlabels = utils.to_categorical(encoded_train_labels)\n",
    "onehot_encoded_testlabels = utils.to_categorical(encoded_test_labels)\n",
    "onehot_encoded_vallabels = utils.to_categorical(encoded_val_labels)"
   ]
  },
  {
   "cell_type": "code",
   "execution_count": 340,
   "metadata": {},
   "outputs": [
    {
     "data": {
      "text/plain": [
       "array([0., 0., 1.], dtype=float32)"
      ]
     },
     "execution_count": 340,
     "metadata": {},
     "output_type": "execute_result"
    }
   ],
   "source": [
    "onehot_val_labels[0]"
   ]
  },
  {
   "cell_type": "code",
   "execution_count": 341,
   "metadata": {},
   "outputs": [],
   "source": [
    "model = models.Sequential()\n",
    "model.add(layers.Dense(8 , input_shape = (4,) , activation = 'relu'))\n",
    "#model.add(layers.Dense(4 ,  activation = 'relu'))\n",
    "model.add(layers.Dense(3 ,  activation = 'softmax'))\n",
    "\n",
    "model.compile(optimizer = 'rmsprop',\n",
    "             loss = 'categorical_crossentropy',\n",
    "             metrics = ['accuracy'])"
   ]
  },
  {
   "cell_type": "code",
   "execution_count": 342,
   "metadata": {},
   "outputs": [
    {
     "name": "stdout",
     "output_type": "stream",
     "text": [
      "Train on 75 samples, validate on 22 samples\n",
      "Epoch 1/80\n",
      "75/75 [==============================] - 1s 8ms/sample - loss: 1.3605 - accuracy: 0.3600 - val_loss: 1.3377 - val_accuracy: 0.2727\n",
      "Epoch 2/80\n",
      "75/75 [==============================] - 0s 812us/sample - loss: 1.2814 - accuracy: 0.3467 - val_loss: 1.2608 - val_accuracy: 0.2727\n",
      "Epoch 3/80\n",
      "75/75 [==============================] - 0s 705us/sample - loss: 1.2086 - accuracy: 0.3467 - val_loss: 1.1886 - val_accuracy: 0.2727\n",
      "Epoch 4/80\n",
      "75/75 [==============================] - 0s 665us/sample - loss: 1.1380 - accuracy: 0.3467 - val_loss: 1.1179 - val_accuracy: 0.2727\n",
      "Epoch 5/80\n",
      "75/75 [==============================] - 0s 718us/sample - loss: 1.0724 - accuracy: 0.3600 - val_loss: 1.0521 - val_accuracy: 0.2727\n",
      "Epoch 6/80\n",
      "75/75 [==============================] - 0s 731us/sample - loss: 1.0070 - accuracy: 0.4933 - val_loss: 0.9915 - val_accuracy: 0.5909\n",
      "Epoch 7/80\n",
      "75/75 [==============================] - 0s 691us/sample - loss: 0.9494 - accuracy: 0.7067 - val_loss: 0.9378 - val_accuracy: 0.5909\n",
      "Epoch 8/80\n",
      "75/75 [==============================] - 0s 1ms/sample - loss: 0.8967 - accuracy: 0.7067 - val_loss: 0.8939 - val_accuracy: 0.5909\n",
      "Epoch 9/80\n",
      "75/75 [==============================] - 0s 891us/sample - loss: 0.8535 - accuracy: 0.7067 - val_loss: 0.8553 - val_accuracy: 0.5909\n",
      "Epoch 10/80\n",
      "75/75 [==============================] - 0s 864us/sample - loss: 0.8189 - accuracy: 0.7067 - val_loss: 0.8259 - val_accuracy: 0.5909\n",
      "Epoch 11/80\n",
      "75/75 [==============================] - 0s 785us/sample - loss: 0.7874 - accuracy: 0.7067 - val_loss: 0.7981 - val_accuracy: 0.5909\n",
      "Epoch 12/80\n",
      "75/75 [==============================] - 0s 705us/sample - loss: 0.7605 - accuracy: 0.7067 - val_loss: 0.7738 - val_accuracy: 0.5909\n",
      "Epoch 13/80\n",
      "75/75 [==============================] - 0s 652us/sample - loss: 0.7368 - accuracy: 0.7067 - val_loss: 0.7540 - val_accuracy: 0.5909\n",
      "Epoch 14/80\n",
      "75/75 [==============================] - 0s 665us/sample - loss: 0.7147 - accuracy: 0.7067 - val_loss: 0.7341 - val_accuracy: 0.5909\n",
      "Epoch 15/80\n",
      "75/75 [==============================] - 0s 691us/sample - loss: 0.6930 - accuracy: 0.7067 - val_loss: 0.7148 - val_accuracy: 0.5909\n",
      "Epoch 16/80\n",
      "75/75 [==============================] - 0s 745us/sample - loss: 0.6729 - accuracy: 0.7067 - val_loss: 0.6973 - val_accuracy: 0.5909\n",
      "Epoch 17/80\n",
      "75/75 [==============================] - 0s 705us/sample - loss: 0.6506 - accuracy: 0.7067 - val_loss: 0.6780 - val_accuracy: 0.5909\n",
      "Epoch 18/80\n",
      "75/75 [==============================] - 0s 798us/sample - loss: 0.6308 - accuracy: 0.7067 - val_loss: 0.6612 - val_accuracy: 0.5909\n",
      "Epoch 19/80\n",
      "75/75 [==============================] - 0s 758us/sample - loss: 0.6105 - accuracy: 0.7200 - val_loss: 0.6416 - val_accuracy: 0.5909\n",
      "Epoch 20/80\n",
      "75/75 [==============================] - 0s 731us/sample - loss: 0.5922 - accuracy: 0.7333 - val_loss: 0.6238 - val_accuracy: 0.5909\n",
      "Epoch 21/80\n",
      "75/75 [==============================] - 0s 731us/sample - loss: 0.5728 - accuracy: 0.7600 - val_loss: 0.6082 - val_accuracy: 0.5909\n",
      "Epoch 22/80\n",
      "75/75 [==============================] - 0s 745us/sample - loss: 0.5541 - accuracy: 0.7600 - val_loss: 0.5896 - val_accuracy: 0.5909\n",
      "Epoch 23/80\n",
      "75/75 [==============================] - 0s 731us/sample - loss: 0.5361 - accuracy: 0.7867 - val_loss: 0.5719 - val_accuracy: 0.7273\n",
      "Epoch 24/80\n",
      "75/75 [==============================] - 0s 824us/sample - loss: 0.5193 - accuracy: 0.8000 - val_loss: 0.5572 - val_accuracy: 0.7273\n",
      "Epoch 25/80\n",
      "75/75 [==============================] - 0s 758us/sample - loss: 0.5039 - accuracy: 0.8133 - val_loss: 0.5439 - val_accuracy: 0.7273\n",
      "Epoch 26/80\n",
      "75/75 [==============================] - 0s 731us/sample - loss: 0.4894 - accuracy: 0.8267 - val_loss: 0.5296 - val_accuracy: 0.7727\n",
      "Epoch 27/80\n",
      "75/75 [==============================] - 0s 731us/sample - loss: 0.4749 - accuracy: 0.8667 - val_loss: 0.5163 - val_accuracy: 0.7727\n",
      "Epoch 28/80\n",
      "75/75 [==============================] - 0s 771us/sample - loss: 0.4612 - accuracy: 0.9067 - val_loss: 0.5071 - val_accuracy: 0.7727\n",
      "Epoch 29/80\n",
      "75/75 [==============================] - 0s 918us/sample - loss: 0.4497 - accuracy: 0.8800 - val_loss: 0.4918 - val_accuracy: 0.7727\n",
      "Epoch 30/80\n",
      "75/75 [==============================] - 0s 718us/sample - loss: 0.4373 - accuracy: 0.9200 - val_loss: 0.4840 - val_accuracy: 0.7727\n",
      "Epoch 31/80\n",
      "75/75 [==============================] - 0s 785us/sample - loss: 0.4280 - accuracy: 0.8933 - val_loss: 0.4718 - val_accuracy: 0.8182\n",
      "Epoch 32/80\n",
      "75/75 [==============================] - 0s 878us/sample - loss: 0.4179 - accuracy: 0.8800 - val_loss: 0.4595 - val_accuracy: 0.9091\n",
      "Epoch 33/80\n",
      "75/75 [==============================] - 0s 864us/sample - loss: 0.4079 - accuracy: 0.9467 - val_loss: 0.4567 - val_accuracy: 0.8182\n",
      "Epoch 34/80\n",
      "75/75 [==============================] - 0s 878us/sample - loss: 0.3970 - accuracy: 0.9200 - val_loss: 0.4420 - val_accuracy: 0.9091\n",
      "Epoch 35/80\n",
      "75/75 [==============================] - 0s 731us/sample - loss: 0.3901 - accuracy: 0.9333 - val_loss: 0.4357 - val_accuracy: 0.9091\n",
      "Epoch 36/80\n",
      "75/75 [==============================] - 0s 785us/sample - loss: 0.3812 - accuracy: 0.9333 - val_loss: 0.4229 - val_accuracy: 0.9091\n",
      "Epoch 37/80\n",
      "75/75 [==============================] - 0s 771us/sample - loss: 0.3721 - accuracy: 0.9333 - val_loss: 0.4106 - val_accuracy: 0.9091\n",
      "Epoch 38/80\n",
      "75/75 [==============================] - 0s 625us/sample - loss: 0.3660 - accuracy: 0.9467 - val_loss: 0.4066 - val_accuracy: 0.9091\n",
      "Epoch 39/80\n",
      "75/75 [==============================] - 0s 665us/sample - loss: 0.3576 - accuracy: 0.9333 - val_loss: 0.3948 - val_accuracy: 0.9545\n",
      "Epoch 40/80\n",
      "75/75 [==============================] - 0s 625us/sample - loss: 0.3537 - accuracy: 0.9733 - val_loss: 0.3925 - val_accuracy: 0.9091\n",
      "Epoch 41/80\n",
      "75/75 [==============================] - 0s 691us/sample - loss: 0.3444 - accuracy: 0.9600 - val_loss: 0.3950 - val_accuracy: 0.9091\n",
      "Epoch 42/80\n",
      "75/75 [==============================] - 0s 638us/sample - loss: 0.3399 - accuracy: 0.9600 - val_loss: 0.3904 - val_accuracy: 0.9091\n",
      "Epoch 43/80\n",
      "75/75 [==============================] - 0s 598us/sample - loss: 0.3343 - accuracy: 0.9333 - val_loss: 0.3770 - val_accuracy: 0.9091\n",
      "Epoch 44/80\n",
      "75/75 [==============================] - 0s 585us/sample - loss: 0.3290 - accuracy: 0.9600 - val_loss: 0.3714 - val_accuracy: 0.9091\n",
      "Epoch 45/80\n",
      "75/75 [==============================] - 0s 731us/sample - loss: 0.3215 - accuracy: 0.9733 - val_loss: 0.3680 - val_accuracy: 0.9091\n",
      "Epoch 46/80\n",
      "75/75 [==============================] - 0s 651us/sample - loss: 0.3170 - accuracy: 0.9600 - val_loss: 0.3586 - val_accuracy: 0.9545\n",
      "Epoch 47/80\n",
      "75/75 [==============================] - 0s 638us/sample - loss: 0.3096 - accuracy: 0.9733 - val_loss: 0.3613 - val_accuracy: 0.9091\n",
      "Epoch 48/80\n",
      "75/75 [==============================] - 0s 665us/sample - loss: 0.3029 - accuracy: 0.9333 - val_loss: 0.3414 - val_accuracy: 0.9545\n",
      "Epoch 49/80\n",
      "75/75 [==============================] - 0s 691us/sample - loss: 0.3020 - accuracy: 0.9733 - val_loss: 0.3410 - val_accuracy: 0.9545\n",
      "Epoch 50/80\n",
      "75/75 [==============================] - 0s 745us/sample - loss: 0.2951 - accuracy: 0.9733 - val_loss: 0.3401 - val_accuracy: 0.9545\n",
      "Epoch 51/80\n",
      "75/75 [==============================] - 0s 625us/sample - loss: 0.2894 - accuracy: 0.9733 - val_loss: 0.3456 - val_accuracy: 0.9091\n",
      "Epoch 52/80\n",
      "75/75 [==============================] - 0s 678us/sample - loss: 0.2867 - accuracy: 0.9467 - val_loss: 0.3295 - val_accuracy: 0.9545\n",
      "Epoch 53/80\n",
      "75/75 [==============================] - 0s 691us/sample - loss: 0.2811 - accuracy: 0.9733 - val_loss: 0.3243 - val_accuracy: 0.9545\n",
      "Epoch 54/80\n",
      "75/75 [==============================] - 0s 678us/sample - loss: 0.2755 - accuracy: 0.9600 - val_loss: 0.3159 - val_accuracy: 0.9545\n",
      "Epoch 55/80\n",
      "75/75 [==============================] - 0s 718us/sample - loss: 0.2724 - accuracy: 0.9733 - val_loss: 0.3164 - val_accuracy: 0.9545\n",
      "Epoch 56/80\n",
      "75/75 [==============================] - 0s 864us/sample - loss: 0.2683 - accuracy: 0.9733 - val_loss: 0.3075 - val_accuracy: 0.9545\n",
      "Epoch 57/80\n",
      "75/75 [==============================] - 0s 931us/sample - loss: 0.2647 - accuracy: 0.9733 - val_loss: 0.3127 - val_accuracy: 0.9545\n",
      "Epoch 58/80\n",
      "75/75 [==============================] - 0s 984us/sample - loss: 0.2576 - accuracy: 0.9733 - val_loss: 0.2990 - val_accuracy: 0.9545\n",
      "Epoch 59/80\n",
      "75/75 [==============================] - 0s 944us/sample - loss: 0.2526 - accuracy: 0.9733 - val_loss: 0.3104 - val_accuracy: 0.9091\n",
      "Epoch 60/80\n",
      "75/75 [==============================] - 0s 771us/sample - loss: 0.2562 - accuracy: 0.9467 - val_loss: 0.3091 - val_accuracy: 0.9091\n",
      "Epoch 61/80\n",
      "75/75 [==============================] - 0s 665us/sample - loss: 0.2473 - accuracy: 0.9733 - val_loss: 0.3076 - val_accuracy: 0.9091\n",
      "Epoch 62/80\n",
      "75/75 [==============================] - 0s 652us/sample - loss: 0.2443 - accuracy: 0.9733 - val_loss: 0.2879 - val_accuracy: 0.9545\n",
      "Epoch 63/80\n",
      "75/75 [==============================] - 0s 638us/sample - loss: 0.2382 - accuracy: 0.9733 - val_loss: 0.2926 - val_accuracy: 0.9545\n",
      "Epoch 64/80\n",
      "75/75 [==============================] - 0s 665us/sample - loss: 0.2359 - accuracy: 0.9733 - val_loss: 0.2883 - val_accuracy: 0.9545\n",
      "Epoch 65/80\n",
      "75/75 [==============================] - 0s 731us/sample - loss: 0.2318 - accuracy: 0.9733 - val_loss: 0.2783 - val_accuracy: 0.9545\n",
      "Epoch 66/80\n",
      "75/75 [==============================] - 0s 718us/sample - loss: 0.2275 - accuracy: 0.9733 - val_loss: 0.2762 - val_accuracy: 0.9545\n",
      "Epoch 67/80\n",
      "75/75 [==============================] - 0s 838us/sample - loss: 0.2235 - accuracy: 0.9733 - val_loss: 0.2657 - val_accuracy: 0.9545\n",
      "Epoch 68/80\n",
      "75/75 [==============================] - 0s 838us/sample - loss: 0.2193 - accuracy: 0.9867 - val_loss: 0.2734 - val_accuracy: 0.9545\n",
      "Epoch 69/80\n",
      "75/75 [==============================] - 0s 851us/sample - loss: 0.2162 - accuracy: 0.9733 - val_loss: 0.2642 - val_accuracy: 0.9545\n",
      "Epoch 70/80\n",
      "75/75 [==============================] - 0s 718us/sample - loss: 0.2162 - accuracy: 0.9733 - val_loss: 0.2634 - val_accuracy: 0.9545\n",
      "Epoch 71/80\n",
      "75/75 [==============================] - 0s 745us/sample - loss: 0.2125 - accuracy: 0.9733 - val_loss: 0.2548 - val_accuracy: 0.9545\n",
      "Epoch 72/80\n",
      "75/75 [==============================] - 0s 625us/sample - loss: 0.2081 - accuracy: 0.9733 - val_loss: 0.2508 - val_accuracy: 0.9545\n",
      "Epoch 73/80\n",
      "75/75 [==============================] - 0s 625us/sample - loss: 0.2040 - accuracy: 0.9867 - val_loss: 0.2471 - val_accuracy: 0.9545\n",
      "Epoch 74/80\n",
      "75/75 [==============================] - 0s 718us/sample - loss: 0.2040 - accuracy: 0.9733 - val_loss: 0.2440 - val_accuracy: 0.9545\n",
      "Epoch 75/80\n",
      "75/75 [==============================] - 0s 785us/sample - loss: 0.2001 - accuracy: 0.9733 - val_loss: 0.2442 - val_accuracy: 0.9545\n",
      "Epoch 76/80\n",
      "75/75 [==============================] - 0s 745us/sample - loss: 0.1969 - accuracy: 0.9733 - val_loss: 0.2375 - val_accuracy: 0.9545\n",
      "Epoch 77/80\n",
      "75/75 [==============================] - 0s 798us/sample - loss: 0.1951 - accuracy: 0.9733 - val_loss: 0.2390 - val_accuracy: 0.9545\n",
      "Epoch 78/80\n",
      "75/75 [==============================] - 0s 785us/sample - loss: 0.1906 - accuracy: 0.9733 - val_loss: 0.2400 - val_accuracy: 0.9545\n",
      "Epoch 79/80\n",
      "75/75 [==============================] - 0s 625us/sample - loss: 0.1880 - accuracy: 0.9733 - val_loss: 0.2328 - val_accuracy: 0.9545\n",
      "Epoch 80/80\n",
      "75/75 [==============================] - 0s 625us/sample - loss: 0.1864 - accuracy: 0.9600 - val_loss: 0.2389 - val_accuracy: 0.9545\n"
     ]
    }
   ],
   "source": [
    "history=model.fit(train_inputs,onehot_encoded_trainlabels,epochs=80,batch_size = 4,validation_data = (val_inputs,onehot_encoded_vallabels))"
   ]
  },
  {
   "cell_type": "code",
   "execution_count": 343,
   "metadata": {},
   "outputs": [
    {
     "name": "stdout",
     "output_type": "stream",
     "text": [
      "\r",
      "53/1 [======================================================================================================================================================================================================================================================================================================================================================================================================================================================================================================================================================================================================================================================================================================================================================================================================================================================================================================================================================================================================================================================================================================================================================================================================================================================================================================================================================================================================================================================================================================================================================================================================================================================] - 0s 113us/sample - loss: 0.2207 - accuracy: 0.9811\n"
     ]
    }
   ],
   "source": [
    "results = model.evaluate(test_inputs,onehot_encoded_testlabels)"
   ]
  },
  {
   "cell_type": "markdown",
   "metadata": {},
   "source": [
    "## GRAPH"
   ]
  },
  {
   "cell_type": "code",
   "execution_count": null,
   "metadata": {},
   "outputs": [],
   "source": [
    "%matplotlib inline\n",
    "import matplotlib.pyplot as plt"
   ]
  },
  {
   "cell_type": "code",
   "execution_count": 344,
   "metadata": {},
   "outputs": [
    {
     "data": {
      "image/png": "[encoded data removed]",
      "text/plain": [
       "<Figure size 720x360 with 1 Axes>"
      ]
     },
     "metadata": {
      "needs_background": "light"
     },
     "output_type": "display_data"
    }
   ],
   "source": [
    "plt.figure(figsize = (10,5))\n",
    "plt.plot(history.history['accuracy'],'bo')\n",
    "plt.plot(history.history['val_accuracy'],'b')\n",
    "plt.title('training and validation accuracy')\n",
    "plt.xlabel('epochs')\n",
    "plt.ylabel('accuracy')\n",
    "plt.legend(['train_acc','val_acc'],loc= 'upper left')\n",
    "plt.show()"
   ]
  },
  {
   "cell_type": "markdown",
   "metadata": {},
   "source": [
    "## prediction"
   ]
  },
  {
   "cell_type": "code",
   "execution_count": 180,
   "metadata": {},
   "outputs": [],
   "source": [
    "i=52\n",
    "prediction = model.predict_classes(test_inputs[i].reshape(1,4))"
   ]
  },
  {
   "cell_type": "code",
   "execution_count": 181,
   "metadata": {},
   "outputs": [
    {
     "name": "stdout",
     "output_type": "stream",
     "text": [
      "Data = [5.  3.4 1.6 0.4] => Prediction = Setosa => Actual label = Setosa\n"
     ]
    }
   ],
   "source": [
    "#checking\n",
    "if prediction == 0:\n",
    "    print(f'Data = {test_inputs[i]} => Prediction = Setosa => Actual label = {test_labels[i]}')\n",
    "elif prediction == 1:\n",
    "    print(f'Data = {test_inputs[i]} => Prediction = Versicolor => Actual label = {test_labels[i]}')\n",
    "else:\n",
    "     print(f'Data = {test_inputs[i]} => Prediction = Virginica => Actual label = {test_labels[i]}')"
   ]
  },
  {
   "cell_type": "code",
   "execution_count": null,
   "metadata": {},
   "outputs": [],
   "source": []
  }
 ],
 "metadata": {
  "kernelspec": {
   "display_name": "Python 3",
   "language": "python",
   "name": "python3"
  },
  "language_info": {
   "codemirror_mode": {
    "name": "ipython",
    "version": 3
   },
   "file_extension": ".py",
   "mimetype": "text/x-python",
   "name": "python",
   "nbconvert_exporter": "python",
   "pygments_lexer": "ipython3",
   "version": "3.7.4"
  }
 },
 "nbformat": 4,
 "nbformat_minor": 2
}
