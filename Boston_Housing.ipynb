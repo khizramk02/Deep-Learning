{
  "nbformat": 4,
  "nbformat_minor": 0,
  "metadata": {
    "colab": {
      "name": "Boston_Housing.ipynb",
      "provenance": [],
      "collapsed_sections": []
    },
    "kernelspec": {
      "name": "python3",
      "display_name": "Python 3"
    },
    "accelerator": "GPU"
  },
  "cells": [
    {
      "cell_type": "code",
      "metadata": {
        "id": "tVlYVtp0YYVU",
        "colab_type": "code",
        "colab": {}
      },
      "source": [
        "import tensorflow as tf\n"
      ],
      "execution_count": 0,
      "outputs": []
    },
    {
      "cell_type": "code",
      "metadata": {
        "id": "zfjp0TnAYp31",
        "colab_type": "code",
        "colab": {
          "base_uri": "https://localhost:8080/",
          "height": 1000
        },
        "outputId": "aad438d7-d6f4-46f6-aaf8-e22b8c819fa1"
      },
      "source": [
        "!pip install --upgrade tensorflow"
      ],
      "execution_count": 2,
      "outputs": [
        {
          "output_type": "stream",
          "text": [
            "Collecting tensorflow\n",
            "\u001b[?25l  Downloading https://files.pythonhosted.org/packages/85/d4/c0cd1057b331bc38b65478302114194bd8e1b9c2bbc06e300935c0e93d90/tensorflow-2.1.0-cp36-cp36m-manylinux2010_x86_64.whl (421.8MB)\n",
            "\u001b[K     |████████████████████████████████| 421.8MB 39kB/s \n",
            "\u001b[?25hRequirement already satisfied, skipping upgrade: grpcio>=1.8.6 in /usr/local/lib/python3.6/dist-packages (from tensorflow) (1.15.0)\n",
            "Requirement already satisfied, skipping upgrade: keras-applications>=1.0.8 in /usr/local/lib/python3.6/dist-packages (from tensorflow) (1.0.8)\n",
            "Requirement already satisfied, skipping upgrade: scipy==1.4.1; python_version >= \"3\" in /usr/local/lib/python3.6/dist-packages (from tensorflow) (1.4.1)\n",
            "Requirement already satisfied, skipping upgrade: numpy<2.0,>=1.16.0 in /usr/local/lib/python3.6/dist-packages (from tensorflow) (1.17.5)\n",
            "Requirement already satisfied, skipping upgrade: gast==0.2.2 in /usr/local/lib/python3.6/dist-packages (from tensorflow) (0.2.2)\n",
            "Requirement already satisfied, skipping upgrade: opt-einsum>=2.3.2 in /usr/local/lib/python3.6/dist-packages (from tensorflow) (3.1.0)\n",
            "Requirement already satisfied, skipping upgrade: google-pasta>=0.1.6 in /usr/local/lib/python3.6/dist-packages (from tensorflow) (0.1.8)\n",
            "Requirement already satisfied, skipping upgrade: absl-py>=0.7.0 in /usr/local/lib/python3.6/dist-packages (from tensorflow) (0.9.0)\n",
            "Requirement already satisfied, skipping upgrade: wheel>=0.26; python_version >= \"3\" in /usr/local/lib/python3.6/dist-packages (from tensorflow) (0.33.6)\n",
            "Requirement already satisfied, skipping upgrade: astor>=0.6.0 in /usr/local/lib/python3.6/dist-packages (from tensorflow) (0.8.1)\n",
            "Collecting tensorboard<2.2.0,>=2.1.0\n",
            "\u001b[?25l  Downloading https://files.pythonhosted.org/packages/40/23/53ffe290341cd0855d595b0a2e7485932f473798af173bbe3a584b99bb06/tensorboard-2.1.0-py3-none-any.whl (3.8MB)\n",
            "\u001b[K     |████████████████████████████████| 3.8MB 56.2MB/s \n",
            "\u001b[?25hRequirement already satisfied, skipping upgrade: six>=1.12.0 in /usr/local/lib/python3.6/dist-packages (from tensorflow) (1.12.0)\n",
            "Requirement already satisfied, skipping upgrade: termcolor>=1.1.0 in /usr/local/lib/python3.6/dist-packages (from tensorflow) (1.1.0)\n",
            "Requirement already satisfied, skipping upgrade: protobuf>=3.8.0 in /usr/local/lib/python3.6/dist-packages (from tensorflow) (3.10.0)\n",
            "Requirement already satisfied, skipping upgrade: keras-preprocessing>=1.1.0 in /usr/local/lib/python3.6/dist-packages (from tensorflow) (1.1.0)\n",
            "Requirement already satisfied, skipping upgrade: wrapt>=1.11.1 in /usr/local/lib/python3.6/dist-packages (from tensorflow) (1.11.2)\n",
            "Collecting tensorflow-estimator<2.2.0,>=2.1.0rc0\n",
            "\u001b[?25l  Downloading https://files.pythonhosted.org/packages/18/90/b77c328a1304437ab1310b463e533fa7689f4bfc41549593056d812fab8e/tensorflow_estimator-2.1.0-py2.py3-none-any.whl (448kB)\n",
            "\u001b[K     |████████████████████████████████| 450kB 59.1MB/s \n",
            "\u001b[?25hRequirement already satisfied, skipping upgrade: h5py in /usr/local/lib/python3.6/dist-packages (from keras-applications>=1.0.8->tensorflow) (2.8.0)\n",
            "Requirement already satisfied, skipping upgrade: markdown>=2.6.8 in /usr/local/lib/python3.6/dist-packages (from tensorboard<2.2.0,>=2.1.0->tensorflow) (3.1.1)\n",
            "Requirement already satisfied, skipping upgrade: google-auth-oauthlib<0.5,>=0.4.1 in /usr/local/lib/python3.6/dist-packages (from tensorboard<2.2.0,>=2.1.0->tensorflow) (0.4.1)\n",
            "Requirement already satisfied, skipping upgrade: werkzeug>=0.11.15 in /usr/local/lib/python3.6/dist-packages (from tensorboard<2.2.0,>=2.1.0->tensorflow) (0.16.0)\n",
            "Collecting google-auth<2,>=1.6.3\n",
            "\u001b[?25l  Downloading https://files.pythonhosted.org/packages/1c/6d/7aae38a9022f982cf8167775c7fc299f203417b698c27080ce09060bba07/google_auth-1.11.0-py2.py3-none-any.whl (76kB)\n",
            "\u001b[K     |████████████████████████████████| 81kB 13.3MB/s \n",
            "\u001b[?25hRequirement already satisfied, skipping upgrade: requests<3,>=2.21.0 in /usr/local/lib/python3.6/dist-packages (from tensorboard<2.2.0,>=2.1.0->tensorflow) (2.21.0)\n",
            "Requirement already satisfied, skipping upgrade: setuptools>=41.0.0 in /usr/local/lib/python3.6/dist-packages (from tensorboard<2.2.0,>=2.1.0->tensorflow) (42.0.2)\n",
            "Requirement already satisfied, skipping upgrade: requests-oauthlib>=0.7.0 in /usr/local/lib/python3.6/dist-packages (from google-auth-oauthlib<0.5,>=0.4.1->tensorboard<2.2.0,>=2.1.0->tensorflow) (1.3.0)\n",
            "Requirement already satisfied, skipping upgrade: pyasn1-modules>=0.2.1 in /usr/local/lib/python3.6/dist-packages (from google-auth<2,>=1.6.3->tensorboard<2.2.0,>=2.1.0->tensorflow) (0.2.7)\n",
            "Requirement already satisfied, skipping upgrade: cachetools<5.0,>=2.0.0 in /usr/local/lib/python3.6/dist-packages (from google-auth<2,>=1.6.3->tensorboard<2.2.0,>=2.1.0->tensorflow) (4.0.0)\n",
            "Requirement already satisfied, skipping upgrade: rsa<4.1,>=3.1.4 in /usr/local/lib/python3.6/dist-packages (from google-auth<2,>=1.6.3->tensorboard<2.2.0,>=2.1.0->tensorflow) (4.0)\n",
            "Requirement already satisfied, skipping upgrade: certifi>=2017.4.17 in /usr/local/lib/python3.6/dist-packages (from requests<3,>=2.21.0->tensorboard<2.2.0,>=2.1.0->tensorflow) (2019.11.28)\n",
            "Requirement already satisfied, skipping upgrade: chardet<3.1.0,>=3.0.2 in /usr/local/lib/python3.6/dist-packages (from requests<3,>=2.21.0->tensorboard<2.2.0,>=2.1.0->tensorflow) (3.0.4)\n",
            "Requirement already satisfied, skipping upgrade: idna<2.9,>=2.5 in /usr/local/lib/python3.6/dist-packages (from requests<3,>=2.21.0->tensorboard<2.2.0,>=2.1.0->tensorflow) (2.8)\n",
            "Requirement already satisfied, skipping upgrade: urllib3<1.25,>=1.21.1 in /usr/local/lib/python3.6/dist-packages (from requests<3,>=2.21.0->tensorboard<2.2.0,>=2.1.0->tensorflow) (1.24.3)\n",
            "Requirement already satisfied, skipping upgrade: oauthlib>=3.0.0 in /usr/local/lib/python3.6/dist-packages (from requests-oauthlib>=0.7.0->google-auth-oauthlib<0.5,>=0.4.1->tensorboard<2.2.0,>=2.1.0->tensorflow) (3.1.0)\n",
            "Requirement already satisfied, skipping upgrade: pyasn1<0.5.0,>=0.4.6 in /usr/local/lib/python3.6/dist-packages (from pyasn1-modules>=0.2.1->google-auth<2,>=1.6.3->tensorboard<2.2.0,>=2.1.0->tensorflow) (0.4.8)\n",
            "\u001b[31mERROR: tensorboard 2.1.0 has requirement grpcio>=1.24.3, but you'll have grpcio 1.15.0 which is incompatible.\u001b[0m\n",
            "\u001b[31mERROR: google-colab 1.0.0 has requirement google-auth~=1.4.0, but you'll have google-auth 1.11.0 which is incompatible.\u001b[0m\n",
            "Installing collected packages: google-auth, tensorboard, tensorflow-estimator, tensorflow\n",
            "  Found existing installation: google-auth 1.4.2\n",
            "    Uninstalling google-auth-1.4.2:\n",
            "      Successfully uninstalled google-auth-1.4.2\n",
            "  Found existing installation: tensorboard 1.15.0\n",
            "    Uninstalling tensorboard-1.15.0:\n",
            "      Successfully uninstalled tensorboard-1.15.0\n",
            "  Found existing installation: tensorflow-estimator 1.15.1\n",
            "    Uninstalling tensorflow-estimator-1.15.1:\n",
            "      Successfully uninstalled tensorflow-estimator-1.15.1\n",
            "  Found existing installation: tensorflow 1.15.0\n",
            "    Uninstalling tensorflow-1.15.0:\n",
            "      Successfully uninstalled tensorflow-1.15.0\n",
            "Successfully installed google-auth-1.11.0 tensorboard-2.1.0 tensorflow-2.1.0 tensorflow-estimator-2.1.0\n"
          ],
          "name": "stdout"
        },
        {
          "output_type": "display_data",
          "data": {
            "application/vnd.colab-display-data+json": {
              "pip_warning": {
                "packages": [
                  "google",
                  "tensorboard",
                  "tensorflow",
                  "tensorflow_core",
                  "tensorflow_estimator"
                ]
              }
            }
          },
          "metadata": {
            "tags": []
          }
        }
      ]
    },
    {
      "cell_type": "code",
      "metadata": {
        "id": "p9TqLkjmZnaT",
        "colab_type": "code",
        "colab": {
          "base_uri": "https://localhost:8080/",
          "height": 34
        },
        "outputId": "f2647e58-297c-4cf5-e189-976b5c0a189c"
      },
      "source": [
        "print(tf.__version__)\n",
        "import numpy as np\n",
        "import pandas as pd\n"
      ],
      "execution_count": 7,
      "outputs": [
        {
          "output_type": "stream",
          "text": [
            "2.1.0\n"
          ],
          "name": "stdout"
        }
      ]
    },
    {
      "cell_type": "code",
      "metadata": {
        "id": "w3mJaBhyaF-z",
        "colab_type": "code",
        "colab": {}
      },
      "source": [
        "from tensorflow.keras.datasets import boston_housing"
      ],
      "execution_count": 0,
      "outputs": []
    },
    {
      "cell_type": "code",
      "metadata": {
        "id": "WwHujo3yaN9O",
        "colab_type": "code",
        "colab": {}
      },
      "source": [
        "(train_data , train_targets) , (test_data , test_targets) = boston_housing.load_data()"
      ],
      "execution_count": 0,
      "outputs": []
    },
    {
      "cell_type": "code",
      "metadata": {
        "id": "ME0Uqmr_adq4",
        "colab_type": "code",
        "colab": {
          "base_uri": "https://localhost:8080/",
          "height": 34
        },
        "outputId": "66800a33-4235-48c8-c469-e3c01786a37e"
      },
      "source": [
        "train_data.shape"
      ],
      "execution_count": 18,
      "outputs": [
        {
          "output_type": "execute_result",
          "data": {
            "text/plain": [
              "(404, 13)"
            ]
          },
          "metadata": {
            "tags": []
          },
          "execution_count": 18
        }
      ]
    },
    {
      "cell_type": "code",
      "metadata": {
        "id": "g5SqitVOagzO",
        "colab_type": "code",
        "colab": {}
      },
      "source": [
        "mean = train_data.mean(axis=0)\n",
        "train_data -= mean\n",
        "std = train_data.std(axis=0)\n",
        "train_data /= std\n",
        "test_data -= mean\n",
        "test_data /= std"
      ],
      "execution_count": 0,
      "outputs": []
    },
    {
      "cell_type": "code",
      "metadata": {
        "id": "dDjtO7g7b0pz",
        "colab_type": "code",
        "colab": {
          "base_uri": "https://localhost:8080/",
          "height": 34
        },
        "outputId": "3dd1c461-1cad-4e67-9537-1589a50a2b51"
      },
      "source": [
        "train_data.shape[1]"
      ],
      "execution_count": 20,
      "outputs": [
        {
          "output_type": "execute_result",
          "data": {
            "text/plain": [
              "13"
            ]
          },
          "metadata": {
            "tags": []
          },
          "execution_count": 20
        }
      ]
    },
    {
      "cell_type": "code",
      "metadata": {
        "id": "kx-0NSmfbavJ",
        "colab_type": "code",
        "colab": {}
      },
      "source": [
        "from tensorflow.keras import models\n",
        "from tensorflow.keras import layers\n",
        "\n",
        "def build_model():\n",
        "  model = models.Sequential()\n",
        "  model.add(layers.Dense(64, activation='relu', input_shape=(train_data.shape[1],)))\n",
        "  model.add(layers.Dense(64, activation='relu'))\n",
        "  model.add(layers.Dense(1))  #last layer\n",
        "  #activation function is not necessary in the last layer as it is the regression problem\n",
        "  #and a scalar value is obtained.\n",
        "  model.compile(optimizer='rmsprop', loss='mse', metrics=['mae'])\n",
        "  return model"
      ],
      "execution_count": 0,
      "outputs": []
    },
    {
      "cell_type": "code",
      "metadata": {
        "id": "zKjGbvIEcltC",
        "colab_type": "code",
        "colab": {
          "base_uri": "https://localhost:8080/",
          "height": 34
        },
        "outputId": "53ea7f7a-fb2c-4caa-c353-c2a1f7d10607"
      },
      "source": [
        "k = 4\n",
        "num_val_samples = len(train_data) // k\n",
        "print(num_val_samples)\n",
        "num_epochs = 100\n",
        "all_scores = []"
      ],
      "execution_count": 22,
      "outputs": [
        {
          "output_type": "stream",
          "text": [
            "101\n"
          ],
          "name": "stdout"
        }
      ]
    },
    {
      "cell_type": "code",
      "metadata": {
        "id": "h39FJrWtcwa0",
        "colab_type": "code",
        "colab": {
          "base_uri": "https://localhost:8080/",
          "height": 85
        },
        "outputId": "aa96678a-ec63-42ec-97ce-d1528ab4b4d2"
      },
      "source": [
        "for i in range(k):\n",
        "  print('processing fold #', i)\n",
        "  \n",
        "  val_data = train_data[i * num_val_samples: (i + 1) * num_val_samples]\n",
        "  \n",
        "  val_targets = train_targets[i * num_val_samples: (i + 1) * num_val_samples]\n",
        "  \n",
        "  partial_train_data = np.concatenate([train_data[:i * num_val_samples], train_data[(i + 1) * num_val_samples:]],axis=0)\n",
        "  \n",
        "  partial_train_targets = np.concatenate([train_targets[:i * num_val_samples],train_targets[(i + 1) * num_val_samples:]],axis=0)\n",
        "\n",
        "  model = build_model()\n",
        "  \n",
        "  model.fit(partial_train_data, partial_train_targets,epochs=num_epochs, batch_size=1, verbose=0)\n",
        "  \n",
        "  val_mse, val_mae = model.evaluate(val_data, val_targets, verbose=0)\n",
        "  \n",
        "  all_scores.append(val_mae)\n"
      ],
      "execution_count": 23,
      "outputs": [
        {
          "output_type": "stream",
          "text": [
            "processing fold # 0\n",
            "processing fold # 1\n",
            "processing fold # 2\n",
            "processing fold # 3\n"
          ],
          "name": "stdout"
        }
      ]
    },
    {
      "cell_type": "code",
      "metadata": {
        "id": "v14ykgtNe6Z4",
        "colab_type": "code",
        "colab": {
          "base_uri": "https://localhost:8080/",
          "height": 34
        },
        "outputId": "4164f447-e710-4a92-80c0-a9d6e0325111"
      },
      "source": [
        "all_scores"
      ],
      "execution_count": 24,
      "outputs": [
        {
          "output_type": "execute_result",
          "data": {
            "text/plain": [
              "[1.8844244, 2.8237035, 2.5487, 2.39838]"
            ]
          },
          "metadata": {
            "tags": []
          },
          "execution_count": 24
        }
      ]
    },
    {
      "cell_type": "code",
      "metadata": {
        "id": "qdfVeq84fTIs",
        "colab_type": "code",
        "colab": {
          "base_uri": "https://localhost:8080/",
          "height": 34
        },
        "outputId": "5c837fc9-3cc1-4808-9548-ab3cb914d153"
      },
      "source": [
        "np.mean(all_scores)"
      ],
      "execution_count": 25,
      "outputs": [
        {
          "output_type": "execute_result",
          "data": {
            "text/plain": [
              "2.4138021"
            ]
          },
          "metadata": {
            "tags": []
          },
          "execution_count": 25
        }
      ]
    },
    {
      "cell_type": "code",
      "metadata": {
        "id": "ImZeatk2f9ej",
        "colab_type": "code",
        "colab": {
          "base_uri": "https://localhost:8080/",
          "height": 85
        },
        "outputId": "3aa9aebd-aeea-40ad-cb23-fe6333ad3c9e"
      },
      "source": [
        "num_epochs = 500\n",
        "all_mae_histories = []\n",
        "\n",
        "for i in range(k):\n",
        "  print('processing fold #', i)\n",
        "  \n",
        "  val_data = train_data[i * num_val_samples: (i + 1) * num_val_samples]\n",
        "  \n",
        "  val_targets = train_targets[i * num_val_samples: (i + 1) * num_val_samples]\n",
        "  \n",
        "  partial_train_data = np.concatenate([train_data[:i * num_val_samples],train_data[(i + 1) * num_val_samples:]],axis=0)\n",
        "  partial_train_targets = np.concatenate([train_targets[:i * num_val_samples],train_targets[(i + 1) * num_val_samples:]],axis=0)\n",
        "  \n",
        "  model = build_model()\n",
        "  history = model.fit(partial_train_data, partial_train_targets,validation_data=(val_data, val_targets),epochs=num_epochs, batch_size=1, verbose=0)\n",
        "  mae_history = history.history['val_mae']\n",
        "  all_mae_histories.append(mae_history)"
      ],
      "execution_count": 27,
      "outputs": [
        {
          "output_type": "stream",
          "text": [
            "processing fold # 0\n",
            "processing fold # 1\n",
            "processing fold # 2\n",
            "processing fold # 3\n"
          ],
          "name": "stdout"
        }
      ]
    },
    {
      "cell_type": "code",
      "metadata": {
        "id": "RJpMJIf6qkK9",
        "colab_type": "code",
        "colab": {}
      },
      "source": [
        "all_mae_histories\n",
        "#it will contain 500 epochs loss"
      ],
      "execution_count": 0,
      "outputs": []
    },
    {
      "cell_type": "code",
      "metadata": {
        "id": "tfT8drtvgx_H",
        "colab_type": "code",
        "colab": {}
      },
      "source": [
        "average_mae_history = [np.mean([x[i] for x in all_mae_histories]) for i in range(num_epochs)]"
      ],
      "execution_count": 0,
      "outputs": []
    },
    {
      "cell_type": "code",
      "metadata": {
        "id": "_YaZfFcUyIUM",
        "colab_type": "code",
        "colab": {
          "base_uri": "https://localhost:8080/",
          "height": 54
        },
        "outputId": "a58e4bb9-69a7-449e-a600-558e95f8fc5c"
      },
      "source": [
        "print(average_mae_history)"
      ],
      "execution_count": 31,
      "outputs": [
        {
          "output_type": "stream",
          "text": [
            "[4.823593, 3.5723362, 3.2789328, 2.997311, 2.78132, 2.6718879, 2.644531, 2.7078254, 2.6107163, 2.5923796, 2.5670702, 2.7432828, 2.565488, 2.544121, 2.5793056, 2.6448567, 2.5960543, 2.6525514, 2.4743054, 2.4946418, 2.4707632, 2.5428338, 2.463817, 2.6080136, 2.4247987, 2.4555063, 2.434351, 2.4877982, 2.4937043, 2.389488, 2.4729202, 2.480495, 2.477465, 2.4644742, 2.5079417, 2.3048887, 2.594948, 2.4265628, 2.3787653, 2.4031339, 2.4269762, 2.411913, 2.4239917, 2.3226311, 2.4401126, 2.3644302, 2.3869798, 2.3930779, 2.364973, 2.3405046, 2.407608, 2.382049, 2.6353812, 2.3994396, 2.4500418, 2.4050112, 2.4309096, 2.4456358, 2.4854383, 2.5127668, 2.431968, 2.5486248, 2.3976097, 2.3121448, 2.3194718, 2.4966557, 2.343349, 2.4401038, 2.4431167, 2.558498, 2.3950465, 2.6114578, 2.4708471, 2.460759, 2.3883593, 2.5279913, 2.4900904, 2.5086086, 2.4209952, 2.4748778, 2.5841277, 2.671455, 2.4344208, 2.452175, 2.5581567, 2.4958122, 2.5052269, 2.5252454, 2.5305276, 2.5055246, 2.5659893, 2.4863157, 2.6575084, 2.439723, 2.4970932, 2.496843, 2.4564235, 2.5913863, 2.70202, 2.4823184, 2.6780224, 2.571108, 2.6012027, 2.660212, 2.6771092, 2.7617166, 2.6026173, 2.7148602, 2.6123586, 2.6614342, 2.5818934, 2.5929046, 2.6135402, 2.6257572, 2.572529, 2.715633, 2.5128467, 2.62938, 2.6179085, 2.6863189, 2.7006261, 2.5884042, 2.5999107, 2.6312027, 2.633465, 2.6027296, 2.5780535, 2.592896, 2.4682882, 2.6172214, 2.5964103, 2.5916877, 2.6655455, 2.5294256, 2.7565887, 2.6501827, 2.585262, 2.4661088, 2.5778427, 2.554644, 2.6538744, 2.5237927, 2.7298176, 2.7126276, 2.5644677, 2.6241949, 2.681061, 2.7127254, 2.6786878, 2.6427317, 2.725124, 2.6075277, 2.7486258, 2.6933606, 2.784562, 2.6460543, 2.9292834, 2.699957, 2.665142, 2.599963, 2.688563, 2.6168284, 2.6816683, 2.6873403, 2.6716886, 2.5514863, 2.588117, 2.6947312, 2.6784453, 2.6836524, 2.7133343, 2.636454, 2.7570472, 2.6299431, 2.7442236, 2.7097008, 2.7505784, 2.8194022, 2.7135727, 2.6307385, 2.601778, 2.5891106, 2.638214, 2.5969665, 2.767171, 2.5732448, 2.6409593, 2.5925243, 2.8556929, 2.7409658, 2.6862104, 2.654653, 2.8195505, 2.5574532, 2.7391093, 2.725253, 2.6621494, 2.81609, 2.8865304, 2.6492856, 2.6512747, 2.629112, 2.671426, 2.6699495, 2.797126, 2.6869864, 2.7880368, 2.8284352, 2.731558, 2.904273, 2.6721282, 2.642728, 2.7761059, 2.779223, 2.661959, 2.7363458, 2.6599288, 2.7172477, 2.6305337, 2.7502542, 2.8489687, 2.5925524, 2.7048059, 2.7867215, 2.6000986, 2.7245467, 2.7104695, 2.8207197, 2.777285, 2.669468, 2.695029, 2.6824653, 2.6113937, 2.7572634, 2.7524633, 2.747891, 2.5836227, 2.7486646, 2.6873963, 2.601315, 2.608697, 2.8868504, 2.8387237, 2.712906, 2.7373838, 2.6733508, 2.6475124, 2.6926675, 2.7495737, 2.6862922, 2.6384227, 2.6715546, 2.6561613, 2.740346, 2.7743604, 2.7430968, 2.6513126, 2.8798966, 2.7246413, 2.7680562, 2.7986097, 2.7685616, 2.6352105, 2.6625214, 2.7000678, 2.763866, 2.7048042, 2.6941617, 2.5595782, 2.640738, 2.6908898, 2.6875129, 2.7237759, 2.7247314, 2.7346683, 2.6858206, 2.720759, 2.7950087, 2.73491, 2.7007577, 2.664047, 2.7190404, 2.6843424, 2.743885, 2.7393885, 2.6816216, 2.7077918, 2.7168787, 2.6568825, 2.665777, 2.6020536, 2.7413611, 2.7082033, 2.7258508, 2.6242242, 2.6586308, 2.6214256, 2.677352, 2.8326173, 2.6804757, 2.6974616, 2.745747, 2.6795297, 2.5526013, 2.6252058, 2.6548474, 2.7111313, 2.6707923, 2.7122416, 2.7567897, 2.629877, 2.661339, 2.6860757, 2.6179144, 2.832136, 2.7969096, 2.785912, 2.6855655, 2.7242076, 2.6807418, 2.6606936, 2.866905, 2.7372637, 2.7079487, 2.7174945, 2.690701, 2.652125, 2.7013204, 2.7231054, 2.8024023, 2.6293783, 2.7161865, 2.8399553, 2.6665704, 2.7121077, 2.633219, 2.759808, 2.6905694, 2.6639833, 2.6886015, 2.71146, 2.7185311, 2.6924267, 2.7009676, 2.6602888, 2.7922604, 2.681176, 2.6866755, 2.748054, 2.7721672, 2.6714659, 2.7177277, 2.6231613, 2.6854773, 2.6908975, 2.617997, 2.7785997, 2.66649, 2.8183668, 2.7195415, 2.7677693, 2.686242, 2.7204986, 2.6380727, 2.691965, 2.824438, 2.6853616, 2.6459262, 2.6482058, 2.6794443, 2.724159, 2.6848671, 2.6278372, 2.62636, 2.8246307, 2.7471902, 2.7531939, 2.7002437, 2.8276868, 2.6818445, 2.6914895, 2.7229347, 2.6871657, 2.6175342, 2.6934528, 2.7014654, 2.7097511, 2.8133292, 2.73596, 2.671247, 2.7176018, 2.7071068, 2.6950562, 2.7687643, 2.677691, 2.6440923, 2.7614367, 2.6248844, 2.7128313, 2.6317167, 2.6931553, 2.617947, 2.8226657, 2.7955186, 2.7008357, 2.7000723, 2.6131825, 2.6782327, 2.692484, 2.76277, 2.737907, 2.7465243, 2.7597413, 2.722164, 2.592168, 2.7083702, 2.6792116, 2.7119336, 2.6280768, 2.7278872, 2.7012057, 2.6717627, 2.7467847, 2.5384746, 2.719967, 2.7184901, 2.7478104, 2.6741915, 2.6811461, 2.706748, 2.64676, 2.6655393, 2.750637, 2.6985233, 2.719026, 2.717402, 2.6670735, 2.7571044, 2.8112962, 2.6968355, 2.6934507, 2.6016393, 2.6404572, 2.616171, 2.632854, 2.7025537, 2.655866, 2.7205327, 2.72162, 2.7502823, 2.680467, 2.7150056, 2.7762594, 2.6849678, 2.7925653, 2.736167, 2.669739, 2.7539997, 2.772768, 2.72589, 2.71831, 2.7419598, 2.6961684, 2.7191672, 2.6988792, 2.7150197, 2.7140307, 2.6697404, 2.7495553, 2.6045918, 2.690181, 2.681234, 2.7000165, 2.7125409, 2.668394, 2.769256, 2.7637563, 2.742549, 2.7914577, 2.8042977, 2.7461014, 2.7321086, 2.825495, 2.7947884, 2.674305, 2.6536705, 2.7198792, 2.7193866, 2.7153075, 2.750573, 2.7399855, 2.7831817, 2.790063, 2.7271826, 2.6747303, 2.712285, 2.7079372, 2.7071102, 2.6893513, 2.7112331]\n"
          ],
          "name": "stdout"
        }
      ]
    },
    {
      "cell_type": "code",
      "metadata": {
        "id": "TxzcSKmxyLJQ",
        "colab_type": "code",
        "colab": {
          "base_uri": "https://localhost:8080/",
          "height": 279
        },
        "outputId": "701c6fd8-1545-4fff-e4bd-bdd0d5951de6"
      },
      "source": [
        "import matplotlib.pyplot as plt\n",
        "plt.plot(range(1, len(average_mae_history) + 1), average_mae_history)\n",
        "plt.xlabel('Epochs')\n",
        "plt.ylabel('Validation MAE')\n",
        "plt.show()"
      ],
      "execution_count": 32,
      "outputs": [
        {
          "output_type": "display_data",
          "data": {
            "image/png": "[encoded data removed]",
            "text/plain": [
              "<Figure size 432x288 with 1 Axes>"
            ]
          },
          "metadata": {
            "tags": []
          }
        }
      ]
    },
    {
      "cell_type": "code",
      "metadata": {
        "id": "Hwv4rGvqySh5",
        "colab_type": "code",
        "colab": {
          "base_uri": "https://localhost:8080/",
          "height": 279
        },
        "outputId": "417037b7-143f-491e-a4ff-70f613e9d0fe"
      },
      "source": [
        "def smooth_curve(points, factor=0.9):\n",
        "  smoothed_points = []\n",
        "  for point in points:\n",
        "    if smoothed_points:\n",
        "      previous = smoothed_points[-1]\n",
        "      smoothed_points.append(previous * factor + point * (1 - factor))\n",
        "    else:\n",
        "      smoothed_points.append(point)\n",
        "  return smoothed_points\n",
        "smooth_mae_history = smooth_curve(average_mae_history[10:])\n",
        "plt.plot(range(1, len(smooth_mae_history) + 1), smooth_mae_history)\n",
        "plt.xlabel('Epochs')\n",
        "plt.ylabel('Validation MAE')\n",
        "plt.show()"
      ],
      "execution_count": 34,
      "outputs": [
        {
          "output_type": "display_data",
          "data": {
            "image/png": "[encoded data removed]",
            "text/plain": [
              "<Figure size 432x288 with 1 Axes>"
            ]
          },
          "metadata": {
            "tags": []
          }
        }
      ]
    },
    {
      "cell_type": "code",
      "metadata": {
        "id": "ji0O7UvmzmVD",
        "colab_type": "code",
        "colab": {
          "base_uri": "https://localhost:8080/",
          "height": 34
        },
        "outputId": "9a83e1e1-9edf-4ba1-c89a-f4213fdc16a9"
      },
      "source": [
        "model = build_model()\n",
        "#Trains it on the entirety of the data\n",
        "model.fit(train_data, train_targets,epochs=80, batch_size=16, verbose=0)\n",
        "test_mse_score, test_mae_score = model.evaluate(test_data, test_targets)"
      ],
      "execution_count": 35,
      "outputs": [
        {
          "output_type": "stream",
          "text": [
            "102/102 [==============================] - 0s 644us/sample - loss: 20.2145 - mae: 2.9543\n"
          ],
          "name": "stdout"
        }
      ]
    },
    {
      "cell_type": "code",
      "metadata": {
        "id": "d4qqEMG50A_Z",
        "colab_type": "code",
        "colab": {}
      },
      "source": [
        ""
      ],
      "execution_count": 0,
      "outputs": []
    }
  ]
}